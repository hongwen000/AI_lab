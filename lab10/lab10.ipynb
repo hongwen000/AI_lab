{
 "cells": [
  {
   "cell_type": "code",
   "execution_count": 1,
   "metadata": {},
   "outputs": [],
   "source": [
    "from pomegranate import *"
   ]
  },
  {
   "cell_type": "code",
   "execution_count": 2,
   "metadata": {},
   "outputs": [],
   "source": [
    "guest = DiscreteDistribution({'A': 1./3, 'B': 1./3, 'C': 1./3})"
   ]
  },
  {
   "cell_type": "code",
   "execution_count": 3,
   "metadata": {},
   "outputs": [],
   "source": [
    "prize = DiscreteDistribution({'A': 1./3, 'B': 1./3, 'C': 1./3})"
   ]
  },
  {
   "cell_type": "code",
   "execution_count": 4,
   "metadata": {},
   "outputs": [],
   "source": [
    "monty = ConditionalProbabilityTable(\n",
    "    [['A','A','A',0.0],\n",
    "     ['A','A','B',0.5],\n",
    "     ['A','A','C',0.5],\n",
    "     ['A','B','A',0.0],\n",
    "     ['A','B','B',0.0],\n",
    "     ['A','B','C',1.0],\n",
    "     ['A','C','A',0.0],\n",
    "     ['A','C','B',1.0],\n",
    "     ['A','C','C',0.0],\n",
    "     ['B','A','A',0.0],\n",
    "     ['B','A','B',0.0],\n",
    "     ['B','A','C',1.0],\n",
    "     ['B','B','A',0.5],\n",
    "     ['B','B','B',0.0],\n",
    "     ['B','B','C',0.5],\n",
    "     ['B','C','A',1.0],\n",
    "     ['B','C','B',0.0],\n",
    "     ['B','C','C',0.0],\n",
    "     ['C','A','A',0.0],\n",
    "     ['C','A','B',1.0],\n",
    "     ['C','A','C',0.0],\n",
    "     ['C','B','A',1.0],\n",
    "     ['C','B','B',0.0],\n",
    "     ['C','B','C',0.0],\n",
    "     ['C','C','A',0.5],\n",
    "     ['C','C','B',0.5],\n",
    "     ['C','C','C',0.0],],\n",
    "    [guest, prize]\n",
    ")"
   ]
  },
  {
   "cell_type": "code",
   "execution_count": 5,
   "metadata": {},
   "outputs": [],
   "source": [
    "s1 = State(guest, name='guest')\n",
    "s2 = State(prize, name='prize')\n",
    "s3 = State(monty, name='monty')"
   ]
  },
  {
   "cell_type": "code",
   "execution_count": 6,
   "metadata": {},
   "outputs": [],
   "source": [
    "model = BayesianNetwork('Monty Hall Problem')"
   ]
  },
  {
   "cell_type": "code",
   "execution_count": 7,
   "metadata": {},
   "outputs": [],
   "source": [
    "model.add_states(s1, s2, s3)"
   ]
  },
  {
   "cell_type": "code",
   "execution_count": 8,
   "metadata": {},
   "outputs": [],
   "source": [
    "model.add_transition(s1, s3)\n",
    "model.add_transition(s2, s3)"
   ]
  },
  {
   "cell_type": "code",
   "execution_count": 9,
   "metadata": {},
   "outputs": [],
   "source": [
    "model.bake()"
   ]
  },
  {
   "cell_type": "code",
   "execution_count": 10,
   "metadata": {},
   "outputs": [
    {
     "data": {
      "text/plain": [
       "0.11111111111111109"
      ]
     },
     "execution_count": 10,
     "metadata": {},
     "output_type": "execute_result"
    }
   ],
   "source": [
    "model.probability(['A','B','C'])"
   ]
  },
  {
   "cell_type": "code",
   "execution_count": 11,
   "metadata": {},
   "outputs": [
    {
     "data": {
      "text/plain": [
       "0.0"
      ]
     },
     "execution_count": 11,
     "metadata": {},
     "output_type": "execute_result"
    }
   ],
   "source": [
    "model.probability(['A','B','B'])"
   ]
  },
  {
   "cell_type": "code",
   "execution_count": 12,
   "metadata": {},
   "outputs": [
    {
     "name": "stdout",
     "output_type": "stream",
     "text": [
      "[{\n",
      "    \"class\" :\"Distribution\",\n",
      "    \"dtype\" :\"str\",\n",
      "    \"name\" :\"DiscreteDistribution\",\n",
      "    \"parameters\" :[\n",
      "        {\n",
      "            \"A\" :0.3333333333333333,\n",
      "            \"B\" :0.3333333333333333,\n",
      "            \"C\" :0.3333333333333333\n",
      "        }\n",
      "    ],\n",
      "    \"frozen\" :false\n",
      "}\n",
      " {\n",
      "    \"class\" :\"Distribution\",\n",
      "    \"dtype\" :\"str\",\n",
      "    \"name\" :\"DiscreteDistribution\",\n",
      "    \"parameters\" :[\n",
      "        {\n",
      "            \"A\" :0.3333333333333333,\n",
      "            \"B\" :0.3333333333333333,\n",
      "            \"C\" :0.3333333333333333\n",
      "        }\n",
      "    ],\n",
      "    \"frozen\" :false\n",
      "}\n",
      " {\n",
      "    \"class\" :\"Distribution\",\n",
      "    \"dtype\" :\"str\",\n",
      "    \"name\" :\"DiscreteDistribution\",\n",
      "    \"parameters\" :[\n",
      "        {\n",
      "            \"C\" :0.3333333333333333,\n",
      "            \"B\" :0.3333333333333333,\n",
      "            \"A\" :0.3333333333333333\n",
      "        }\n",
      "    ],\n",
      "    \"frozen\" :false\n",
      "}]\n"
     ]
    }
   ],
   "source": [
    "print(model.predict_proba({}))"
   ]
  },
  {
   "cell_type": "code",
   "execution_count": 13,
   "metadata": {},
   "outputs": [
    {
     "data": {
      "text/plain": [
       "array(['A',\n",
       "       {\n",
       "    \"class\" :\"Distribution\",\n",
       "    \"dtype\" :\"str\",\n",
       "    \"name\" :\"DiscreteDistribution\",\n",
       "    \"parameters\" :[\n",
       "        {\n",
       "            \"A\" :0.3333333333333333,\n",
       "            \"B\" :0.3333333333333333,\n",
       "            \"C\" :0.3333333333333333\n",
       "        }\n",
       "    ],\n",
       "    \"frozen\" :false\n",
       "},\n",
       "       {\n",
       "    \"class\" :\"Distribution\",\n",
       "    \"dtype\" :\"str\",\n",
       "    \"name\" :\"DiscreteDistribution\",\n",
       "    \"parameters\" :[\n",
       "        {\n",
       "            \"C\" :0.49999999999999994,\n",
       "            \"B\" :0.49999999999999994,\n",
       "            \"A\" :0.0\n",
       "        }\n",
       "    ],\n",
       "    \"frozen\" :false\n",
       "}], dtype=object)"
      ]
     },
     "execution_count": 13,
     "metadata": {},
     "output_type": "execute_result"
    }
   ],
   "source": [
    "model.predict_proba(['A',None,None])"
   ]
  },
  {
   "cell_type": "code",
   "execution_count": 14,
   "metadata": {},
   "outputs": [],
   "source": [
    "burglary = DiscreteDistribution({1:0.001, 0:0.999})"
   ]
  },
  {
   "cell_type": "code",
   "execution_count": 15,
   "metadata": {},
   "outputs": [],
   "source": [
    "earthquake = DiscreteDistribution({1: 0.002, 0: 0.998})"
   ]
  },
  {
   "cell_type": "code",
   "execution_count": 16,
   "metadata": {},
   "outputs": [],
   "source": [
    "alarm = ConditionalProbabilityTable(\n",
    "    [[1,1,1,0.95],\n",
    "     [1,1,0,0.05],\n",
    "     [1,0,1,0.94],\n",
    "     [1,0,0,0.06],\n",
    "     [0,1,1,0.29],\n",
    "     [0,1,0,0.71],\n",
    "     [0,0,1,0.001],\n",
    "     [0,0,0,0.999]], [burglary, earthquake]\n",
    ")"
   ]
  },
  {
   "cell_type": "code",
   "execution_count": 17,
   "metadata": {},
   "outputs": [],
   "source": [
    "johncalls = ConditionalProbabilityTable(\n",
    "    [[1,1,0.90],\n",
    "     [1,0,0.10],\n",
    "     [0,1,0.05],\n",
    "     [0,0,0.95]], [alarm]\n",
    ")"
   ]
  },
  {
   "cell_type": "code",
   "execution_count": 18,
   "metadata": {},
   "outputs": [],
   "source": [
    "marycalls = ConditionalProbabilityTable(\n",
    "    [[1,1,0.70],\n",
    "     [1,0,0.30],\n",
    "     [0,1,0.01],\n",
    "     [0,0,0.99]], [alarm]\n",
    ")"
   ]
  },
  {
   "cell_type": "code",
   "execution_count": 19,
   "metadata": {},
   "outputs": [],
   "source": [
    "s1 = State(burglary, name='burglary')\n",
    "s2 = State(earthquake, name='earthquake')\n",
    "s3 = State(alarm, name='alarm')\n",
    "s4 = State(johncalls, name='johncalls')\n",
    "s5 = State(marycalls, name='marycalls')"
   ]
  },
  {
   "cell_type": "code",
   "execution_count": 20,
   "metadata": {},
   "outputs": [],
   "source": [
    "model = BayesianNetwork('Buggy Burglary Alarm')"
   ]
  },
  {
   "cell_type": "code",
   "execution_count": 21,
   "metadata": {},
   "outputs": [],
   "source": [
    "model.add_states(s1,s2,s3,s4,s5)"
   ]
  },
  {
   "cell_type": "code",
   "execution_count": 22,
   "metadata": {},
   "outputs": [],
   "source": [
    "model.add_transition(s1,s3)"
   ]
  },
  {
   "cell_type": "code",
   "execution_count": 23,
   "metadata": {},
   "outputs": [],
   "source": [
    "model.add_transition(s2,s3)"
   ]
  },
  {
   "cell_type": "code",
   "execution_count": 24,
   "metadata": {},
   "outputs": [],
   "source": [
    "model.add_transition(s3,s4)"
   ]
  },
  {
   "cell_type": "code",
   "execution_count": 25,
   "metadata": {},
   "outputs": [],
   "source": [
    "model.add_transition(s3,s5)"
   ]
  },
  {
   "cell_type": "code",
   "execution_count": 26,
   "metadata": {},
   "outputs": [],
   "source": [
    "model.bake()"
   ]
  },
  {
   "cell_type": "code",
   "execution_count": 27,
   "metadata": {
    "scrolled": true
   },
   "outputs": [
    {
     "data": {
      "text/plain": [
       "array([{\n",
       "    \"class\" :\"Distribution\",\n",
       "    \"dtype\" :\"int\",\n",
       "    \"name\" :\"DiscreteDistribution\",\n",
       "    \"parameters\" :[\n",
       "        {\n",
       "            \"1\" :0.001000000000000444,\n",
       "            \"0\" :0.9989999999999996\n",
       "        }\n",
       "    ],\n",
       "    \"frozen\" :false\n",
       "},\n",
       "       {\n",
       "    \"class\" :\"Distribution\",\n",
       "    \"dtype\" :\"int\",\n",
       "    \"name\" :\"DiscreteDistribution\",\n",
       "    \"parameters\" :[\n",
       "        {\n",
       "            \"1\" :0.002000000000000442,\n",
       "            \"0\" :0.9979999999999996\n",
       "        }\n",
       "    ],\n",
       "    \"frozen\" :false\n",
       "},\n",
       "       {\n",
       "    \"class\" :\"Distribution\",\n",
       "    \"dtype\" :\"int\",\n",
       "    \"name\" :\"DiscreteDistribution\",\n",
       "    \"parameters\" :[\n",
       "        {\n",
       "            \"0\" :0.997483557999999,\n",
       "            \"1\" :0.002516442000000935\n",
       "        }\n",
       "    ],\n",
       "    \"frozen\" :false\n",
       "},\n",
       "       {\n",
       "    \"class\" :\"Distribution\",\n",
       "    \"dtype\" :\"int\",\n",
       "    \"name\" :\"DiscreteDistribution\",\n",
       "    \"parameters\" :[\n",
       "        {\n",
       "            \"0\" :0.9478610242999992,\n",
       "            \"1\" :0.0521389757000008\n",
       "        }\n",
       "    ],\n",
       "    \"frozen\" :false\n",
       "},\n",
       "       {\n",
       "    \"class\" :\"Distribution\",\n",
       "    \"dtype\" :\"int\",\n",
       "    \"name\" :\"DiscreteDistribution\",\n",
       "    \"parameters\" :[\n",
       "        {\n",
       "            \"0\" :0.9882636550199994,\n",
       "            \"1\" :0.011736344980000708\n",
       "        }\n",
       "    ],\n",
       "    \"frozen\" :false\n",
       "}], dtype=object)"
      ]
     },
     "execution_count": 27,
     "metadata": {},
     "output_type": "execute_result"
    }
   ],
   "source": [
    "model.predict_proba({})"
   ]
  },
  {
   "cell_type": "code",
   "execution_count": 28,
   "metadata": {},
   "outputs": [
    {
     "data": {
      "image/png": "[encoded data removed]",
      "text/plain": [
       "<Figure size 432x288 with 1 Axes>"
      ]
     },
     "metadata": {},
     "output_type": "display_data"
    }
   ],
   "source": [
    "model.plot()"
   ]
  },
  {
   "cell_type": "code",
   "execution_count": 29,
   "metadata": {},
   "outputs": [
    {
     "data": {
      "text/plain": [
       "1.1969999999999995e-06"
      ]
     },
     "execution_count": 29,
     "metadata": {},
     "output_type": "execute_result"
    }
   ],
   "source": [
    "model.probability([1,1,1,1,1])"
   ]
  },
  {
   "cell_type": "code",
   "execution_count": 30,
   "metadata": {},
   "outputs": [],
   "source": [
    "ret = 0\n",
    "for b in [0,1]:\n",
    "    for e in [0,1]:\n",
    "        for a in [0,1]:\n",
    "            ret += model.probability([b,e,a,1,1])"
   ]
  },
  {
   "cell_type": "code",
   "execution_count": 31,
   "metadata": {},
   "outputs": [
    {
     "data": {
      "text/plain": [
       "0.0020841002390000014"
      ]
     },
     "execution_count": 31,
     "metadata": {},
     "output_type": "execute_result"
    }
   ],
   "source": [
    "ret"
   ]
  },
  {
   "cell_type": "code",
   "execution_count": 32,
   "metadata": {},
   "outputs": [
    {
     "data": {
      "text/plain": [
       "array([{\n",
       "    \"class\" :\"Distribution\",\n",
       "    \"dtype\" :\"int\",\n",
       "    \"name\" :\"DiscreteDistribution\",\n",
       "    \"parameters\" :[\n",
       "        {\n",
       "            \"1\" :0.2841718353644582,\n",
       "            \"0\" :0.7158281646355418\n",
       "        }\n",
       "    ],\n",
       "    \"frozen\" :false\n",
       "},\n",
       "       {\n",
       "    \"class\" :\"Distribution\",\n",
       "    \"dtype\" :\"int\",\n",
       "    \"name\" :\"DiscreteDistribution\",\n",
       "    \"parameters\" :[\n",
       "        {\n",
       "            \"1\" :0.17606683840509577,\n",
       "            \"0\" :0.8239331615949043\n",
       "        }\n",
       "    ],\n",
       "    \"frozen\" :false\n",
       "},\n",
       "       {\n",
       "    \"class\" :\"Distribution\",\n",
       "    \"dtype\" :\"int\",\n",
       "    \"name\" :\"DiscreteDistribution\",\n",
       "    \"parameters\" :[\n",
       "        {\n",
       "            \"0\" :0.23930796113684336,\n",
       "            \"1\" :0.7606920388631567\n",
       "        }\n",
       "    ],\n",
       "    \"frozen\" :false\n",
       "},\n",
       "       1, 1], dtype=object)"
      ]
     },
     "execution_count": 32,
     "metadata": {},
     "output_type": "execute_result"
    }
   ],
   "source": [
    "model.predict_proba({'johncalls':1,'marycalls':1})"
   ]
  },
  {
   "cell_type": "code",
   "execution_count": null,
   "metadata": {},
   "outputs": [],
   "source": []
  },
  {
   "cell_type": "code",
   "execution_count": 33,
   "metadata": {},
   "outputs": [],
   "source": [
    "p_j_m_b = 0\n",
    "for e in [0,1]:\n",
    "    for a in [0,1]:\n",
    "        p_j_m_b += model.probability([0,e,a,1,0])"
   ]
  },
  {
   "cell_type": "code",
   "execution_count": 34,
   "metadata": {},
   "outputs": [],
   "source": [
    "ret2 = p_j_m_b / 0.9989999999999996"
   ]
  },
  {
   "cell_type": "code",
   "execution_count": 35,
   "metadata": {},
   "outputs": [
    {
     "name": "stdout",
     "output_type": "stream",
     "text": [
      "0.049847949000000016\n"
     ]
    }
   ],
   "source": [
    "print(ret2)"
   ]
  },
  {
   "cell_type": "code",
   "execution_count": 36,
   "metadata": {},
   "outputs": [],
   "source": [
    "Age = DiscreteDistribution(\n",
    "    {'0+':0.10, '30':0.30, '65': 0.60}\n",
    ")"
   ]
  },
  {
   "cell_type": "code",
   "execution_count": 37,
   "metadata": {},
   "outputs": [],
   "source": [
    "CT = DiscreteDistribution(\n",
    "    {'IS': 0.7, 'HS': 0.3}\n",
    ")"
   ]
  },
  {
   "cell_type": "code",
   "execution_count": 38,
   "metadata": {},
   "outputs": [],
   "source": [
    "MRI = DiscreteDistribution(\n",
    "    {'IS': 0.7, 'HS': 0.3}\n",
    ")"
   ]
  },
  {
   "cell_type": "code",
   "execution_count": 39,
   "metadata": {},
   "outputs": [],
   "source": [
    "Anti = DiscreteDistribution(\n",
    "    {'Y': 0.5, 'N': 0.5}\n",
    ")"
   ]
  },
  {
   "cell_type": "code",
   "execution_count": 40,
   "metadata": {},
   "outputs": [],
   "source": [
    "Stroke = ConditionalProbabilityTable(\n",
    "    [['IS', 'IS', 'IS', 0.8],\n",
    "     ['IS', 'HS', 'IS', 0.5],\n",
    "     ['HS', 'IS', 'IS', 0.5],\n",
    "     ['HS', 'HS', 'IS', 0.0],\n",
    "     \n",
    "     ['IS', 'IS', 'HS', 0.0],\n",
    "     ['IS', 'HS', 'HS', 0.4],\n",
    "     ['HS', 'IS', 'HS', 0.4],\n",
    "     ['HS', 'HS', 'HS', 0.9],\n",
    "     \n",
    "     ['IS', 'IS', 'SM', 0.2],\n",
    "     ['IS', 'HS', 'SM', 0.1],\n",
    "     ['HS', 'IS', 'SM', 0.1],\n",
    "     ['HS', 'HS', 'SM', 0.1]], [CT, MRI]\n",
    ")"
   ]
  },
  {
   "cell_type": "code",
   "execution_count": 41,
   "metadata": {},
   "outputs": [],
   "source": [
    "Mortality = ConditionalProbabilityTable(\n",
    "    [['IS', 'Y', 'F', 0.28],\n",
    "     ['HS', 'Y', 'F', 0.99],\n",
    "     ['SM', 'Y', 'F', 0.10],\n",
    "     ['IS', 'N', 'F', 0.56],\n",
    "     ['HS', 'N', 'F', 0.58],\n",
    "     ['SM', 'N', 'F', 0.05],\n",
    "     ['IS', 'Y', 'T', 0.72],\n",
    "     ['HS', 'Y', 'T', 0.01],\n",
    "     ['SM', 'Y', 'T', 0.90],\n",
    "     ['IS', 'N', 'T', 0.44],\n",
    "     ['HS', 'N', 'T', 0.42],\n",
    "     ['SM', 'N', 'T', 0.95]], [Stroke, Anti]\n",
    ")"
   ]
  },
  {
   "cell_type": "code",
   "execution_count": 42,
   "metadata": {},
   "outputs": [],
   "source": [
    "Disability = ConditionalProbabilityTable(\n",
    "    [\n",
    "        ['IS', '0+', 'Neg', 0.80],\n",
    "        ['HS', '0+', 'Neg', 0.70],\n",
    "        ['SM', '0+', 'Neg', 0.90],\n",
    "        ['IS', '30', 'Neg', 0.60],\n",
    "        ['HS', '30', 'Neg', 0.50],\n",
    "        ['SM', '30', 'Neg', 0.40],\n",
    "        ['IS', '65', 'Neg', 0.30],\n",
    "        ['HS', '65', 'Neg', 0.20],\n",
    "        ['SM', '65', 'Neg', 0.10],\n",
    "        \n",
    "        ['IS', '0+', 'Mod', 0.10],\n",
    "        ['HS', '0+', 'Mod', 0.20],\n",
    "        ['SM', '0+', 'Mod', 0.05],\n",
    "        ['IS', '30', 'Mod', 0.30],\n",
    "        ['HS', '30', 'Mod', 0.40],\n",
    "        ['SM', '30', 'Mod', 0.30],\n",
    "        ['IS', '65', 'Mod', 0.40],\n",
    "        ['HS', '65', 'Mod', 0.20],\n",
    "        ['SM', '65', 'Mod', 0.10],\n",
    " \n",
    "        ['IS', '0+', 'Sev', 0.10],\n",
    "        ['HS', '0+', 'Sev', 0.10],\n",
    "        ['SM', '0+', 'Sev', 0.05],\n",
    "        ['IS', '30', 'Sev', 0.10],\n",
    "        ['HS', '30', 'Sev', 0.10],\n",
    "        ['SM', '30', 'Sev', 0.30],\n",
    "        ['IS', '65', 'Sev', 0.30],\n",
    "        ['HS', '65', 'Sev', 0.60],\n",
    "        ['SM', '65', 'Sev', 0.80]], [Stroke, Age]\n",
    ")"
   ]
  },
  {
   "cell_type": "code",
   "execution_count": 43,
   "metadata": {},
   "outputs": [],
   "source": [
    "s1 = State(Age, name='PatientAge')\n",
    "s2 = State(CT, name='CTScanResult')\n",
    "s3 = State(MRI, name='MRIScanResult')\n",
    "s4 = State(Anti, name='Anticoagulants')\n",
    "s5 = State(Stroke, name='StrokeType')\n",
    "s6 = State(Mortality, name='Mortality')\n",
    "s7 = State(Disability, name='Disability')"
   ]
  },
  {
   "cell_type": "code",
   "execution_count": 44,
   "metadata": {},
   "outputs": [],
   "source": [
    "model=BayesianNetwork(\"disease\")"
   ]
  },
  {
   "cell_type": "code",
   "execution_count": 45,
   "metadata": {},
   "outputs": [],
   "source": [
    "model.add_states(s1,s2,s3,s4,s5,s6,s7)"
   ]
  },
  {
   "cell_type": "code",
   "execution_count": 46,
   "metadata": {},
   "outputs": [],
   "source": [
    "model.add_transition(s2,s5)\n",
    "model.add_transition(s3,s5)\n",
    "model.add_transition(s5,s6)\n",
    "model.add_transition(s4,s6)\n",
    "model.add_transition(s5,s7)\n",
    "model.add_transition(s1,s7)"
   ]
  },
  {
   "cell_type": "code",
   "execution_count": 47,
   "metadata": {},
   "outputs": [],
   "source": [
    "model.bake()"
   ]
  },
  {
   "cell_type": "code",
   "execution_count": 48,
   "metadata": {},
   "outputs": [
    {
     "data": {
      "image/png": "[encoded data removed]",
      "text/plain": [
       "<Figure size 432x288 with 1 Axes>"
      ]
     },
     "metadata": {},
     "output_type": "display_data"
    }
   ],
   "source": [
    "model.plot()"
   ]
  },
  {
   "cell_type": "code",
   "execution_count": 49,
   "metadata": {
    "scrolled": false
   },
   "outputs": [
    {
     "data": {
      "text/plain": [
       "[{'T': 0.5948499999999999, 'F': 0.40515000000000007}]"
      ]
     },
     "execution_count": 49,
     "metadata": {},
     "output_type": "execute_result"
    }
   ],
   "source": [
    "model.predict_proba(\n",
    "    {'PatientAge':'0+', 'CTScanResult': 'IS'}\n",
    "                   )[5].parameters"
   ]
  },
  {
   "cell_type": "code",
   "execution_count": 50,
   "metadata": {},
   "outputs": [
    {
     "data": {
      "text/plain": [
       "[{'Mod': 0.32499999999999996, 'Sev': 0.421, 'Neg': 0.25399999999999995}]"
      ]
     },
     "execution_count": 50,
     "metadata": {},
     "output_type": "execute_result"
    }
   ],
   "source": [
    "model.predict_proba(\n",
    "    {'PatientAge':'65', 'MRIScanResult': 'IS'}\n",
    ")[6].parameters"
   ]
  },
  {
   "cell_type": "code",
   "execution_count": 53,
   "metadata": {},
   "outputs": [
    {
     "data": {
      "text/plain": [
       "[{'SM': 0.10000000000000044, 'HS': 0.3999999999999995, 'IS': 0.5}]"
      ]
     },
     "execution_count": 53,
     "metadata": {},
     "output_type": "execute_result"
    }
   ],
   "source": [
    "model.predict_proba(\n",
    "    {'PatientAge':'65', 'CTScanResult':'HS', 'MRIScanResult': 'IS'}\n",
    ")[4].parameters"
   ]
  },
  {
   "cell_type": "code",
   "execution_count": 54,
   "metadata": {},
   "outputs": [
    {
     "data": {
      "text/plain": [
       "[{'T': 0.8999999999999999, 'F': 0.1000000000000002}]"
      ]
     },
     "execution_count": 54,
     "metadata": {},
     "output_type": "execute_result"
    }
   ],
   "source": [
    "model.predict_proba(\n",
    "    {'PatientAge':'0+', 'Anticoagulants':'Y', 'StrokeType':'SM'}\n",
    ")[5].parameters"
   ]
  },
  {
   "cell_type": "code",
   "execution_count": 57,
   "metadata": {},
   "outputs": [
    {
     "data": {
      "text/plain": [
       "5.250000000000009e-06"
      ]
     },
     "execution_count": 57,
     "metadata": {},
     "output_type": "execute_result"
    }
   ],
   "source": [
    "model.probability(\n",
    "    ['0+', 'IS', 'HS', 'Y', 'SM', 'F', 'Sev']\n",
    ")"
   ]
  },
  {
   "cell_type": "code",
   "execution_count": null,
   "metadata": {},
   "outputs": [],
   "source": []
  }
 ],
 "metadata": {
  "kernelspec": {
   "display_name": "Python 3",
   "language": "python",
   "name": "python3"
  },
  "language_info": {
   "codemirror_mode": {
    "name": "ipython",
    "version": 3
   },
   "file_extension": ".py",
   "mimetype": "text/x-python",
   "name": "python",
   "nbconvert_exporter": "python",
   "pygments_lexer": "ipython3",
   "version": "3.6.5"
  }
 },
 "nbformat": 4,
 "nbformat_minor": 2
}
