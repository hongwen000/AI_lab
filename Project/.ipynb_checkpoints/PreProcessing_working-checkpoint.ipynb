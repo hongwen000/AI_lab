{
 "cells": [
  {
   "cell_type": "code",
   "execution_count": 1,
   "metadata": {
    "ExecuteTime": {
     "end_time": "2018-10-18T19:19:58.818348Z",
     "start_time": "2018-10-18T19:19:58.387940Z"
    },
    "scrolled": true
   },
   "outputs": [],
   "source": [
    "import re as regex, string\n",
    "from typing import List\n",
    "from enchant.checker import SpellChecker\n",
    "import numba\n",
    "from tqdm import tnrange, tqdm_notebook\n",
    "from time import sleep\n",
    "import nltk"
   ]
  },
  {
   "cell_type": "code",
   "execution_count": 2,
   "metadata": {
    "ExecuteTime": {
     "end_time": "2018-10-18T19:19:58.822656Z",
     "start_time": "2018-10-18T19:19:58.819687Z"
    },
    "code_folding": []
   },
   "outputs": [
    {
     "name": "stdout",
     "output_type": "stream",
     "text": [
      "[<module>]: Hello world!\n",
      "[<module>]: Hello deubg\n"
     ]
    }
   ],
   "source": [
    "import logging\n",
    "import sys\n",
    "logging.basicConfig(format='[%(funcName)s]: %(message)s',\n",
    "                     level=logging.INFO, stream=sys.stdout)\n",
    "logger = logging.getLogger(\"logger\")\n",
    "logger.setLevel(logging.DEBUG)\n",
    "logger.info('Hello world!')\n",
    "logger.debug(\"Hello deubg\")"
   ]
  },
  {
   "cell_type": "markdown",
   "metadata": {},
   "source": [
    "## 读取文件"
   ]
  },
  {
   "cell_type": "code",
   "execution_count": 3,
   "metadata": {
    "ExecuteTime": {
     "end_time": "2018-10-18T19:19:58.841760Z",
     "start_time": "2018-10-18T19:19:58.823801Z"
    }
   },
   "outputs": [],
   "source": [
    "filen = 'data/5/testData.txt'\n",
    "fdata = list(open(filen))\n",
    "fdata = fdata[0:1000]"
   ]
  },
  {
   "cell_type": "markdown",
   "metadata": {},
   "source": [
    "## 分词"
   ]
  },
  {
   "cell_type": "code",
   "execution_count": 4,
   "metadata": {
    "ExecuteTime": {
     "end_time": "2018-10-18T19:19:58.845041Z",
     "start_time": "2018-10-18T19:19:58.842911Z"
    },
    "code_folding": []
   },
   "outputs": [],
   "source": [
    "from nltk.tokenize import word_tokenize\n",
    "def split_words(fdata: List[List])->List[List]:\n",
    "    ret = []\n",
    "    for row in tqdm_notebook(fdata):\n",
    "        words = word_tokenize(row)\n",
    "        ret.append(words)\n",
    "    return ret"
   ]
  },
  {
   "cell_type": "code",
   "execution_count": 5,
   "metadata": {
    "ExecuteTime": {
     "end_time": "2018-10-18T19:20:00.347131Z",
     "start_time": "2018-10-18T19:19:58.845962Z"
    }
   },
   "outputs": [
    {
     "data": {
      "application/vnd.jupyter.widget-view+json": {
       "model_id": "2f1c8ae6b0254c428e4d2d9887b1832a",
       "version_major": 2,
       "version_minor": 0
      },
      "text/plain": [
       "HBox(children=(IntProgress(value=0, max=1000), HTML(value='')))"
      ]
     },
     "metadata": {},
     "output_type": "display_data"
    },
    {
     "name": "stdout",
     "output_type": "stream",
     "text": [
      "\n"
     ]
    }
   ],
   "source": [
    "passage = split_words(fdata)"
   ]
  },
  {
   "cell_type": "code",
   "execution_count": 6,
   "metadata": {
    "ExecuteTime": {
     "end_time": "2018-10-18T19:20:00.350077Z",
     "start_time": "2018-10-18T19:20:00.348267Z"
    }
   },
   "outputs": [
    {
     "name": "stdout",
     "output_type": "stream",
     "text": [
      "387969\n"
     ]
    }
   ],
   "source": [
    "print(sum(len(row) for row in passage))"
   ]
  },
  {
   "cell_type": "markdown",
   "metadata": {},
   "source": [
    "## 去除标点、特殊符号、HTML标签等非英文内容"
   ]
  },
  {
   "cell_type": "code",
   "execution_count": null,
   "metadata": {
    "deletable": false,
    "editable": false,
    "run_control": {
     "frozen": true
    }
   },
   "outputs": [],
   "source": [
    "def remove_punc(s):\n",
    "    # 使用正则表达式去除标点和特殊符号\n",
    "    regex_cleaner = regex.compile(\"[^a-zA-Z]\")\n",
    "    return regex_cleaner.sub(' ', s)"
   ]
  },
  {
   "cell_type": "code",
   "execution_count": null,
   "metadata": {
    "code_folding": [],
    "deletable": false,
    "editable": false,
    "run_control": {
     "frozen": true
    }
   },
   "outputs": [],
   "source": [
    "#执行\n",
    "fdata = [remove_punc(row) for row in fdata]\n",
    "words = [str.split(row) for row in fdata]"
   ]
  },
  {
   "cell_type": "code",
   "execution_count": 7,
   "metadata": {
    "ExecuteTime": {
     "end_time": "2018-10-18T19:20:00.353028Z",
     "start_time": "2018-10-18T19:20:00.351209Z"
    }
   },
   "outputs": [],
   "source": [
    "def remove_punc(row_of_words: List[List])->List[List]:\n",
    "    ret = []\n",
    "    for row in tqdm_notebook(row_of_words):\n",
    "        words = [word for word in row if word.isalpha()]\n",
    "        ret.append(words)\n",
    "    return ret"
   ]
  },
  {
   "cell_type": "code",
   "execution_count": 8,
   "metadata": {
    "ExecuteTime": {
     "end_time": "2018-10-18T19:20:00.392401Z",
     "start_time": "2018-10-18T19:20:00.354179Z"
    }
   },
   "outputs": [
    {
     "data": {
      "application/vnd.jupyter.widget-view+json": {
       "model_id": "5f0bdd3d71e044989acf2640bd7f71f3",
       "version_major": 2,
       "version_minor": 0
      },
      "text/plain": [
       "HBox(children=(IntProgress(value=0, max=1000), HTML(value='')))"
      ]
     },
     "metadata": {},
     "output_type": "display_data"
    },
    {
     "name": "stdout",
     "output_type": "stream",
     "text": [
      "\n"
     ]
    }
   ],
   "source": [
    "passage_cleaned = remove_punc(passage)"
   ]
  },
  {
   "cell_type": "code",
   "execution_count": 9,
   "metadata": {
    "ExecuteTime": {
     "end_time": "2018-10-18T19:20:00.395453Z",
     "start_time": "2018-10-18T19:20:00.393449Z"
    }
   },
   "outputs": [
    {
     "name": "stdout",
     "output_type": "stream",
     "text": [
      "387969\n",
      "331751\n"
     ]
    }
   ],
   "source": [
    "print(sum(len(row) for row in passage))\n",
    "print(sum(len(row) for row in passage_cleaned))"
   ]
  },
  {
   "cell_type": "markdown",
   "metadata": {},
   "source": [
    "## 去除停用词"
   ]
  },
  {
   "cell_type": "code",
   "execution_count": 10,
   "metadata": {
    "ExecuteTime": {
     "end_time": "2018-10-18T19:20:00.449564Z",
     "start_time": "2018-10-18T19:20:00.396430Z"
    }
   },
   "outputs": [
    {
     "name": "stdout",
     "output_type": "stream",
     "text": [
      "172055\n"
     ]
    }
   ],
   "source": [
    "from nltk.corpus import stopwords\n",
    "stop_words = set(stopwords.words('english'))\n",
    "passage = [list(filter(lambda w: w.lower() not in stop_words, row)) for row in passage_cleaned]\n",
    "print(sum(len(row) for row in passage))"
   ]
  },
  {
   "cell_type": "code",
   "execution_count": null,
   "metadata": {
    "deletable": false,
    "editable": false,
    "run_control": {
     "frozen": true
    }
   },
   "outputs": [],
   "source": [
    "a = [set(row) for row in words]\n",
    "ret = set()\n",
    "for row in a:\n",
    "    ret = ret | set(row)"
   ]
  },
  {
   "cell_type": "markdown",
   "metadata": {},
   "source": [
    "## 拼写检查"
   ]
  },
  {
   "cell_type": "code",
   "execution_count": null,
   "metadata": {
    "deletable": false,
    "editable": false,
    "run_control": {
     "frozen": true
    }
   },
   "outputs": [],
   "source": [
    "def sentence_spell_check(fdata)-> List[List]:\n",
    "    sentence_corrected = []\n",
    "    chkr = SpellChecker(\"en_US\")\n",
    "    cnt = 0\n",
    "    for row in tqdm_notebook(fdata):\n",
    "        chkr.set_text(row)\n",
    "        for err in chkr:\n",
    "            cnt += 1\n",
    "            err.replace(\"\")\n",
    "        sentence_corrected.append(err.get_text())\n",
    "    logging.info(\"There are {} errors \".format(cnt))\n",
    "    return sentence_corrected"
   ]
  },
  {
   "cell_type": "code",
   "execution_count": null,
   "metadata": {
    "deletable": false,
    "editable": false,
    "run_control": {
     "frozen": true
    }
   },
   "outputs": [],
   "source": [
    "def words_spell_check(fdata)->List[List]:\n",
    "    words_corrected = []\n",
    "    chkr = SpellChecker(\"en_US\")\n",
    "    err = 0\n",
    "    cnt = 0\n",
    "    for row in tqdm_notebook(fdata):\n",
    "        row_corrected = []\n",
    "        for word in row:\n",
    "            if word.istitle():\n",
    "                continue\n",
    "            ret = chkr.check(word)\n",
    "            cnt+=1\n",
    "            if ret is False:\n",
    "                err += 1\n",
    "                suggest = chkr.suggest(word)\n",
    "                suggest2 = autocorrect.spell(word)\n",
    "                if len(suggest) == 0:\n",
    "                    continue\n",
    "                else:\n",
    "                    print(word, suggest[0], suggest2)\n",
    "            else:\n",
    "                row_corrected.append(word)\n",
    "        words_corrected.append(row_corrected)\n",
    "    logging.info(\"There are {} errors in {} words, error rate : {}\".format(err, cnt, err/cnt))\n",
    "    return words_corrected\n"
   ]
  },
  {
   "cell_type": "code",
   "execution_count": null,
   "metadata": {
    "deletable": false,
    "editable": false,
    "run_control": {
     "frozen": true
    }
   },
   "outputs": [],
   "source": [
    "print(\"There are \", sum(len(row) for row in words),\" words in total\")\n",
    "fdata = sentence_spell_check(fdata)"
   ]
  },
  {
   "cell_type": "code",
   "execution_count": 11,
   "metadata": {
    "ExecuteTime": {
     "end_time": "2018-10-18T19:20:02.843217Z",
     "start_time": "2018-10-18T19:20:00.450706Z"
    }
   },
   "outputs": [],
   "source": [
    "import autocorrect\n",
    "\n",
    "def words_spell_check(fdata)->List[List]:\n",
    "    ret = []\n",
    "    err = 0\n",
    "    cnt = 0\n",
    "    for row in tqdm_notebook(fdata):\n",
    "        corrected_row = []\n",
    "        for word in row:\n",
    "            suggest = autocorrect.spell(word)\n",
    "            if word != suggest:\n",
    "                err += 1\n",
    "            cnt += 1\n",
    "            corrected_row.append(word)\n",
    "        ret.append(corrected_row)\n",
    "    logging.info(\"There are {} errors in {} words, error rate : {}\".format(err, cnt, err/cnt))\n",
    "    return ret\n",
    "\n",
    "import os, time, random\n",
    "def correct_words(passage):\n",
    "    print('Run task (%s)...' % (os.getpid()))\n",
    "    ret = [[autocorrect.spell(word) for word in row] for row in passage]\n",
    "    return ret"
   ]
  },
  {
   "cell_type": "code",
   "execution_count": 12,
   "metadata": {
    "ExecuteTime": {
     "end_time": "2018-10-18T19:20:02.847193Z",
     "start_time": "2018-10-18T19:20:02.844290Z"
    }
   },
   "outputs": [],
   "source": [
    "from multiprocessing import Pool\n",
    "from typing import List, NoReturn, Callable\n",
    "def list_multiprocess(lst: List, func: Callable[[List],List], n: int)-> List:\n",
    "    if len(lst) < n:\n",
    "        return func(lst)\n",
    "    p = Pool(n)\n",
    "    lists = []\n",
    "    psize = int(len(lst) / n)\n",
    "    for i in range(n - 1):\n",
    "        lists.append(lst[i * psize: (i+1) * psize])\n",
    "    lists.append(lst[(n-1) * psize:])\n",
    "    ret = []\n",
    "    for i in range(n):\n",
    "        ret.append(p.apply_async(func, args=(lists[i],)))\n",
    "    print('Waiting for all subprocesses done...')\n",
    "    p.close()\n",
    "    p.join()\n",
    "    last = []\n",
    "    for i in ret:\n",
    "        last += i.get()\n",
    "    print('All subprocesses done.')\n",
    "    return last"
   ]
  },
  {
   "cell_type": "code",
   "execution_count": 13,
   "metadata": {
    "ExecuteTime": {
     "end_time": "2018-10-18T19:20:23.755716Z",
     "start_time": "2018-10-18T19:20:02.848384Z"
    }
   },
   "outputs": [
    {
     "name": "stdout",
     "output_type": "stream",
     "text": [
      "Waiting for all subprocesses done...\n",
      "\n",
      "[words_spell_check]: There are 1280 errors in 28013 words, error rate : 0.045693071074144144\n",
      "\n",
      "[words_spell_check]: There are 1309 errors in 30843 words, error rate : 0.04244074830593652\n",
      "\n",
      "[words_spell_check]: There are 1323 errors in 27165 words, error rate : 0.048702374378796244\n",
      "\n",
      "[words_spell_check]: There are 1355 errors in 27881 words, error rate : 0.048599404612460095\n",
      "\n",
      "[words_spell_check]: There are 1195 errors in 27033 words, error rate : 0.04420523064402767\n",
      "\n",
      "[words_spell_check]: There are 1386 errors in 31120 words, error rate : 0.04453727506426735\n",
      "All subprocesses done.\n"
     ]
    }
   ],
   "source": [
    "logger.setLevel(logging.INFO)\n",
    "passage = list_multiprocess(passage, words_spell_check, 6)"
   ]
  },
  {
   "cell_type": "code",
   "execution_count": null,
   "metadata": {
    "code_folding": [],
    "deletable": false,
    "editable": false,
    "run_control": {
     "frozen": true
    }
   },
   "outputs": [],
   "source": [
    "chkr = SpellChecker(\"en_US\")\n",
    "chkr.set_text(\"I am a happi happi boy\")\n",
    "for err in chkr:\n",
    "    print(str(err.word))\n",
    "    err.replace(\"\")\n",
    "chkr.get_text()"
   ]
  },
  {
   "cell_type": "markdown",
   "metadata": {},
   "source": [
    "## 词性标注"
   ]
  },
  {
   "cell_type": "code",
   "execution_count": null,
   "metadata": {
    "deletable": false,
    "editable": false,
    "run_control": {
     "frozen": true
    }
   },
   "outputs": [],
   "source": [
    "def get_word_properties(row):\n",
    "    ret = []\n",
    "    for row in tqdm_notebook(words):\n",
    "        word_properties = nltk.pos_tag(row)\n",
    "        ret.append(word_properties)\n",
    "    return ret\n",
    "word_class =get_word_properties(corrected)\n",
    "print(word_class[0])\n"
   ]
  },
  {
   "cell_type": "code",
   "execution_count": null,
   "metadata": {
    "deletable": false,
    "editable": false,
    "run_control": {
     "frozen": true
    }
   },
   "outputs": [],
   "source": [
    "def get_wordnet_pos(treebank_tag):\n",
    "    if treebank_tag.startswith('J'):\n",
    "        return wordnet.ADJ\n",
    "    elif treebank_tag.startswith('V'):\n",
    "        return wordnet.VERB\n",
    "    elif treebank_tag.startswith('N'):\n",
    "        return wordnet.NOUN\n",
    "    elif treebank_tag.startswith('R'):\n",
    "        return wordnet.ADV\n",
    "    else:\n",
    "        return None"
   ]
  },
  {
   "cell_type": "markdown",
   "metadata": {},
   "source": [
    "## 词形还原"
   ]
  },
  {
   "cell_type": "code",
   "execution_count": null,
   "metadata": {
    "deletable": false,
    "editable": false,
    "run_control": {
     "frozen": true
    }
   },
   "outputs": [],
   "source": [
    "from nltk.stem import WordNetLemmatizer\n",
    "wnl = WordNetLemmatizer()\n",
    "print(wnl.lemmatize('countries'))  "
   ]
  },
  {
   "cell_type": "code",
   "execution_count": null,
   "metadata": {
    "deletable": false,
    "editable": false,
    "run_control": {
     "frozen": true
    }
   },
   "outputs": [],
   "source": [
    "import nltk  \n",
    "sent1='The cat is walking in all countries.'  \n",
    "sent2='A dog was running across the kitchen.'  \n",
    "tokens_1=nltk.word_tokenize(sent2)  \n",
    "print (tokens_1)\n",
    "stemmer = nltk.stem.PorterStemmer()\n",
    "print(wnl.lemmatize('was'))  \n",
    "stem_0 = [wnl.lemmatize(t) for t in tokens_1]  \n",
    "print(stem_0) \n"
   ]
  },
  {
   "cell_type": "code",
   "execution_count": 16,
   "metadata": {
    "ExecuteTime": {
     "end_time": "2018-10-18T19:21:05.403691Z",
     "start_time": "2018-10-18T19:21:05.396428Z"
    }
   },
   "outputs": [
    {
     "data": {
      "text/plain": [
       "'country'"
      ]
     },
     "execution_count": 16,
     "metadata": {},
     "output_type": "execute_result"
    }
   ],
   "source": [
    "from pattern.en import lemma\n",
    "lemma('countries')"
   ]
  },
  {
   "cell_type": "code",
   "execution_count": 15,
   "metadata": {
    "ExecuteTime": {
     "end_time": "2018-10-18T19:20:57.274148Z",
     "start_time": "2018-10-18T19:20:57.141186Z"
    }
   },
   "outputs": [],
   "source": [
    "def lemma_words(passage):\n",
    "    ret = []\n",
    "    for row in passage:\n",
    "        ret.append([lemma(word) for word in row])\n",
    "    return ret\n",
    "passage_lemma = lemma_words(passage)\n",
    "\n",
    "# test_list = [\n",
    "#     ['The', 'cats', 'are', 'walking', 'in', 'the', 'biggest', 'bedroom', '.'],\n",
    "#     ['good', 'cat', 'is', 'walk', 'in', 'the', 'bedroom', '.']\n",
    "#     ]\n",
    "# print(lemma('Dogs'))\n",
    "# [[lemma(word) for word in row] for row in test_list]"
   ]
  },
  {
   "cell_type": "code",
   "execution_count": null,
   "metadata": {},
   "outputs": [],
   "source": []
  },
  {
   "cell_type": "code",
   "execution_count": null,
   "metadata": {
    "ExecuteTime": {
     "end_time": "2018-10-18T19:20:25.129500Z",
     "start_time": "2018-10-18T19:19:58.411Z"
    }
   },
   "outputs": [],
   "source": [
    "correct_words(words)\n",
    "corrected = list_multiprocess(words, correct_words, 6)"
   ]
  },
  {
   "cell_type": "code",
   "execution_count": null,
   "metadata": {
    "ExecuteTime": {
     "end_time": "2018-10-18T19:20:25.129988Z",
     "start_time": "2018-10-18T19:19:58.413Z"
    }
   },
   "outputs": [],
   "source": [
    "start = time.time()\n",
    "print(sum(len(row) for row in corrected))\n",
    "end = time.time()\n",
    "print(corrected[1])"
   ]
  },
  {
   "cell_type": "code",
   "execution_count": null,
   "metadata": {},
   "outputs": [],
   "source": []
  }
 ],
 "metadata": {
  "kernelspec": {
   "display_name": "Python 3",
   "language": "python",
   "name": "python3"
  },
  "language_info": {
   "codemirror_mode": {
    "name": "ipython",
    "version": 3
   },
   "file_extension": ".py",
   "mimetype": "text/x-python",
   "name": "python",
   "nbconvert_exporter": "python",
   "pygments_lexer": "ipython3",
   "version": "3.7.0"
  },
  "varInspector": {
   "cols": {
    "lenName": 16,
    "lenType": 16,
    "lenVar": 40
   },
   "kernels_config": {
    "python": {
     "delete_cmd_postfix": "",
     "delete_cmd_prefix": "del ",
     "library": "var_list.py",
     "varRefreshCmd": "print(var_dic_list())"
    },
    "r": {
     "delete_cmd_postfix": ") ",
     "delete_cmd_prefix": "rm(",
     "library": "var_list.r",
     "varRefreshCmd": "cat(var_dic_list()) "
    }
   },
   "position": {
    "height": "307px",
    "left": "1070px",
    "right": "16px",
    "top": "120px",
    "width": "354px"
   },
   "types_to_exclude": [
    "module",
    "function",
    "builtin_function_or_method",
    "instance",
    "_Feature"
   ],
   "window_display": false
  }
 },
 "nbformat": 4,
 "nbformat_minor": 2
}
