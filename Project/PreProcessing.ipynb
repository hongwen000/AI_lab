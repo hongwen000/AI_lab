{
 "cells": [
  {
   "cell_type": "code",
   "execution_count": 31,
   "metadata": {
    "ExecuteTime": {
     "end_time": "2018-10-18T19:59:05.199878Z",
     "start_time": "2018-10-18T19:59:05.197181Z"
    },
    "scrolled": true
   },
   "outputs": [],
   "source": [
    "import re as regex, string\n",
    "from typing import List\n",
    "from enchant.checker import SpellChecker\n",
    "import numba\n",
    "from tqdm import tnrange, tqdm_notebook\n",
    "from time import sleep\n",
    "import nltk"
   ]
  },
  {
   "cell_type": "code",
   "execution_count": 32,
   "metadata": {
    "ExecuteTime": {
     "end_time": "2018-10-18T19:59:06.085757Z",
     "start_time": "2018-10-18T19:59:06.082269Z"
    },
    "code_folding": []
   },
   "outputs": [
    {
     "name": "stdout",
     "output_type": "stream",
     "text": [
      "[<module>]: Hello world!\n",
      "[<module>]: Hello deubg\n"
     ]
    }
   ],
   "source": [
    "import logging\n",
    "import sys\n",
    "logging.basicConfig(format='[%(funcName)s]: %(message)s',\n",
    "                     level=logging.INFO, stream=sys.stdout)\n",
    "logger = logging.getLogger(\"logger\")\n",
    "logger.setLevel(logging.DEBUG)\n",
    "logger.info('Hello world!')\n",
    "logger.debug(\"Hello deubg\")"
   ]
  },
  {
   "cell_type": "markdown",
   "metadata": {},
   "source": [
    "## 读取文件"
   ]
  },
  {
   "cell_type": "code",
   "execution_count": 33,
   "metadata": {
    "ExecuteTime": {
     "end_time": "2018-10-18T19:59:06.895762Z",
     "start_time": "2018-10-18T19:59:06.878503Z"
    }
   },
   "outputs": [],
   "source": [
    "filen = 'data/5/testData.txt'\n",
    "fdata = list(open(filen))\n",
    "fdata = fdata[0:1000]"
   ]
  },
  {
   "cell_type": "markdown",
   "metadata": {},
   "source": [
    "## 分词"
   ]
  },
  {
   "cell_type": "code",
   "execution_count": 34,
   "metadata": {
    "ExecuteTime": {
     "end_time": "2018-10-18T19:59:07.678246Z",
     "start_time": "2018-10-18T19:59:07.676266Z"
    },
    "code_folding": []
   },
   "outputs": [],
   "source": [
    "from nltk.tokenize import word_tokenize\n",
    "def split_words(fdata: List[List])->List[List]:\n",
    "    ret = []\n",
    "    for row in tqdm_notebook(fdata):\n",
    "        words = word_tokenize(row)\n",
    "        ret.append(words)\n",
    "    return ret"
   ]
  },
  {
   "cell_type": "code",
   "execution_count": 35,
   "metadata": {
    "ExecuteTime": {
     "end_time": "2018-10-18T19:59:11.004195Z",
     "start_time": "2018-10-18T19:59:09.579062Z"
    }
   },
   "outputs": [
    {
     "data": {
      "application/vnd.jupyter.widget-view+json": {
       "model_id": "ec40f839268b431694cec1f44087b067",
       "version_major": 2,
       "version_minor": 0
      },
      "text/plain": [
       "HBox(children=(IntProgress(value=0, max=1000), HTML(value='')))"
      ]
     },
     "metadata": {},
     "output_type": "display_data"
    },
    {
     "name": "stdout",
     "output_type": "stream",
     "text": [
      "\n"
     ]
    }
   ],
   "source": [
    "passage = split_words(fdata)"
   ]
  },
  {
   "cell_type": "code",
   "execution_count": 36,
   "metadata": {
    "ExecuteTime": {
     "end_time": "2018-10-18T19:59:11.772762Z",
     "start_time": "2018-10-18T19:59:11.770980Z"
    }
   },
   "outputs": [
    {
     "name": "stdout",
     "output_type": "stream",
     "text": [
      "387969\n"
     ]
    }
   ],
   "source": [
    "print(sum(len(row) for row in passage))"
   ]
  },
  {
   "cell_type": "markdown",
   "metadata": {},
   "source": [
    "## 去除标点、特殊符号、HTML标签等非英文内容"
   ]
  },
  {
   "cell_type": "code",
   "execution_count": 37,
   "metadata": {
    "ExecuteTime": {
     "end_time": "2018-10-18T19:59:13.093458Z",
     "start_time": "2018-10-18T19:59:13.088207Z"
    }
   },
   "outputs": [],
   "source": [
    "def remove_punc(row_of_words: List[List])->List[List]:\n",
    "    ret = []\n",
    "    for row in tqdm_notebook(row_of_words):\n",
    "        words = [word for word in row if word.isalpha()]\n",
    "        ret.append(words)\n",
    "    return ret"
   ]
  },
  {
   "cell_type": "code",
   "execution_count": 38,
   "metadata": {
    "ExecuteTime": {
     "end_time": "2018-10-18T19:59:13.921452Z",
     "start_time": "2018-10-18T19:59:13.875642Z"
    }
   },
   "outputs": [
    {
     "data": {
      "application/vnd.jupyter.widget-view+json": {
       "model_id": "45003e8249144f58a23ebd7af68a7135",
       "version_major": 2,
       "version_minor": 0
      },
      "text/plain": [
       "HBox(children=(IntProgress(value=0, max=1000), HTML(value='')))"
      ]
     },
     "metadata": {},
     "output_type": "display_data"
    },
    {
     "name": "stdout",
     "output_type": "stream",
     "text": [
      "\n",
      "['its', 'as', 'though', 'an', 'alien', 'made', 'this', 'movie', 'its', 'really', 'disturbing', 'i', 'loved', 'it', 'some', 'great', 'directing', 'very', 'great', 'acting', 'this', 'film', 'is', 'practically', 'theatrical', 'a', 'great', 'script', 'a', 'great', 'plot', 'lots', 'of', 'symbolism', 'some', 'really', 'heavy', 'humour', 'very', 'english', 'and', 'pompous', 'and', 'rude', 'this', 'film', 'is', 'drenched', 'in', 'scarlet', 'sin', 'after', 'you', 'watch', 'it', 'you', 'feel', 'as', 'though', 'your', 'soul', 'and', 'has', 'turned', 'all', 'murky', 'but', 'it', 'was', 'still', 'very', 'much', 'worth', 'watching', 'a', 'good', 'laugh', 'for', 'those', 'special', 'few', 'who', 'are', 'open', 'minded', 'enough', 'to', 'enjoy', 'this', 'really', 'true', 'masterpiece', 'i', 'would', 'not', 'know', 'for', 'sure', 'which', 'genre', 'to', 'place', 'it', 'a', 'cult', 'classic', 'maybe', 'this', 'is', 'basically', 'the', 'story', 'of', 'the', 'owner', 'of', 'a', 'french', 'restaurant', 'he', 'is', 'english', 'and', 'far', 'from', 'being', 'classy', 'enough', 'to', 'fill', 'this', 'post', 'very', 'far']\n"
     ]
    }
   ],
   "source": [
    "passage = remove_punc(passage)"
   ]
  },
  {
   "cell_type": "code",
   "execution_count": 40,
   "metadata": {
    "ExecuteTime": {
     "end_time": "2018-10-18T19:59:21.183013Z",
     "start_time": "2018-10-18T19:59:21.178202Z"
    }
   },
   "outputs": [
    {
     "name": "stdout",
     "output_type": "stream",
     "text": [
      "331751\n"
     ]
    }
   ],
   "source": [
    "print(sum(len(row) for row in passage))"
   ]
  },
  {
   "cell_type": "markdown",
   "metadata": {},
   "source": [
    "## 去除停用词"
   ]
  },
  {
   "cell_type": "code",
   "execution_count": null,
   "metadata": {},
   "outputs": [],
   "source": [
    "from nltk.corpus import stopwords\n",
    "def remove_stop_words(passage):\n",
    "    stop_words = set(stopwords.words('english'))\n",
    "    stop_words.add('us')\n",
    "    passage = [list(filter(lambda w: w.lower() not in stop_words, row)) for row in passage]\n",
    "    return passage\n"
   ]
  },
  {
   "cell_type": "markdown",
   "metadata": {},
   "source": [
    "## 拼写检查"
   ]
  },
  {
   "cell_type": "code",
   "execution_count": 44,
   "metadata": {
    "ExecuteTime": {
     "end_time": "2018-10-18T19:59:33.790514Z",
     "start_time": "2018-10-18T19:59:33.787256Z"
    }
   },
   "outputs": [],
   "source": [
    "import autocorrect\n",
    "\n",
    "def words_spell_check(fdata)->List[List]:\n",
    "    ret = []\n",
    "    err = 0\n",
    "    cnt = 0\n",
    "    for row in tqdm_notebook(fdata):\n",
    "        corrected_row = []\n",
    "        for word in row:\n",
    "            suggest = autocorrect.spell(word)\n",
    "            if word != suggest:\n",
    "                err += 1\n",
    "            cnt += 1\n",
    "            corrected_row.append(word)\n",
    "        ret.append(corrected_row)\n",
    "    logging.info(\"There are {} errors in {} words, error rate : {}\".format(err, cnt, err/cnt))\n",
    "    return ret\n",
    "\n",
    "import os, time, random\n",
    "def correct_words(passage):\n",
    "    print('Run task (%s)...' % (os.getpid()))\n",
    "    ret = [[autocorrect.spell(word) for word in row] for row in passage]\n",
    "    return ret"
   ]
  },
  {
   "cell_type": "code",
   "execution_count": 45,
   "metadata": {
    "ExecuteTime": {
     "end_time": "2018-10-18T19:59:34.622128Z",
     "start_time": "2018-10-18T19:59:34.619126Z"
    }
   },
   "outputs": [],
   "source": [
    "from multiprocessing import Pool\n",
    "from typing import List, NoReturn, Callable\n",
    "def list_multiprocess(lst: List, func: Callable[[List],List], n: int)-> List:\n",
    "    if len(lst) < n:\n",
    "        return func(lst)\n",
    "    p = Pool(n)\n",
    "    lists = []\n",
    "    psize = int(len(lst) / n)\n",
    "    for i in range(n - 1):\n",
    "        lists.append(lst[i * psize: (i+1) * psize])\n",
    "    lists.append(lst[(n-1) * psize:])\n",
    "    ret = []\n",
    "    for i in range(n):\n",
    "        ret.append(p.apply_async(func, args=(lists[i],)))\n",
    "    print('Waiting for all subprocesses done...')\n",
    "    p.close()\n",
    "    p.join()\n",
    "    last = []\n",
    "    for i in ret:\n",
    "        last += i.get()\n",
    "    print('All subprocesses done.')\n",
    "    return last"
   ]
  },
  {
   "cell_type": "code",
   "execution_count": 46,
   "metadata": {
    "ExecuteTime": {
     "end_time": "2018-10-18T19:59:56.129064Z",
     "start_time": "2018-10-18T19:59:35.353126Z"
    }
   },
   "outputs": [
    {
     "name": "stdout",
     "output_type": "stream",
     "text": [
      "Waiting for all subprocesses done...\n",
      "\n",
      "[words_spell_check]: There are 1280 errors in 53425 words, error rate : 0.02395882077678989\n",
      "\n",
      "[words_spell_check]: There are 1310 errors in 59600 words, error rate : 0.02197986577181208\n",
      "\n",
      "[words_spell_check]: There are 1323 errors in 52671 words, error rate : 0.025118186478327732\n",
      "\n",
      "[words_spell_check]: There are 1355 errors in 53657 words, error rate : 0.02525299588124569\n",
      "\n",
      "[words_spell_check]: There are 1195 errors in 51877 words, error rate : 0.023035256472039634\n",
      "\n",
      "[words_spell_check]: There are 1386 errors in 60521 words, error rate : 0.022901141752449564\n",
      "All subprocesses done.\n"
     ]
    }
   ],
   "source": [
    "logger.setLevel(logging.INFO)\n",
    "passage = list_multiprocess(passage, words_spell_check, 6)"
   ]
  },
  {
   "cell_type": "markdown",
   "metadata": {},
   "source": [
    "## 词性标注"
   ]
  },
  {
   "cell_type": "code",
   "execution_count": 48,
   "metadata": {
    "ExecuteTime": {
     "end_time": "2018-10-18T20:00:13.313563Z",
     "start_time": "2018-10-18T20:00:13.307811Z"
    }
   },
   "outputs": [],
   "source": [
    "from nltk.corpus import wordnet\n",
    "def get_wordnet_pos(treebank_tag):\n",
    "    if treebank_tag.startswith('J'):\n",
    "        return wordnet.ADJ\n",
    "    elif treebank_tag.startswith('V'):\n",
    "        return wordnet.VERB\n",
    "    elif treebank_tag.startswith('N'):\n",
    "        return wordnet.NOUN\n",
    "    elif treebank_tag.startswith('R'):\n",
    "        return wordnet.ADV\n",
    "    else:\n",
    "        return None"
   ]
  },
  {
   "cell_type": "markdown",
   "metadata": {},
   "source": [
    "## 词形还原"
   ]
  },
  {
   "cell_type": "code",
   "execution_count": 49,
   "metadata": {
    "ExecuteTime": {
     "end_time": "2018-10-18T20:00:16.037137Z",
     "start_time": "2018-10-18T20:00:15.732114Z"
    }
   },
   "outputs": [
    {
     "ename": "RuntimeError",
     "evalue": "generator raised StopIteration",
     "output_type": "error",
     "traceback": [
      "\u001b[0;31m---------------------------------------------------------------------------\u001b[0m",
      "\u001b[0;31mStopIteration\u001b[0m                             Traceback (most recent call last)",
      "\u001b[0;32m/usr/lib/python3.7/site-packages/pattern/text/__init__.py\u001b[0m in \u001b[0;36m_read\u001b[0;34m(path, encoding, comment)\u001b[0m\n\u001b[1;32m    608\u001b[0m             \u001b[0;32myield\u001b[0m \u001b[0mline\u001b[0m\u001b[0;34m\u001b[0m\u001b[0m\n\u001b[0;32m--> 609\u001b[0;31m     \u001b[0;32mraise\u001b[0m \u001b[0mStopIteration\u001b[0m\u001b[0;34m\u001b[0m\u001b[0m\n\u001b[0m\u001b[1;32m    610\u001b[0m \u001b[0;34m\u001b[0m\u001b[0m\n",
      "\u001b[0;31mStopIteration\u001b[0m: ",
      "\nThe above exception was the direct cause of the following exception:\n",
      "\u001b[0;31mRuntimeError\u001b[0m                              Traceback (most recent call last)",
      "\u001b[0;32m<ipython-input-49-d85a0301b6b8>\u001b[0m in \u001b[0;36m<module>\u001b[0;34m()\u001b[0m\n\u001b[1;32m      1\u001b[0m \u001b[0;32mfrom\u001b[0m \u001b[0mpattern\u001b[0m\u001b[0;34m.\u001b[0m\u001b[0men\u001b[0m \u001b[0;32mimport\u001b[0m \u001b[0mlemma\u001b[0m\u001b[0;34m\u001b[0m\u001b[0m\n\u001b[0;32m----> 2\u001b[0;31m \u001b[0mlemma\u001b[0m\u001b[0;34m(\u001b[0m\u001b[0;34m'countries'\u001b[0m\u001b[0;34m)\u001b[0m\u001b[0;34m\u001b[0m\u001b[0m\n\u001b[0m",
      "\u001b[0;32m/usr/lib/python3.7/site-packages/pattern/text/__init__.py\u001b[0m in \u001b[0;36mlemma\u001b[0;34m(self, verb, parse)\u001b[0m\n\u001b[1;32m   2170\u001b[0m         \"\"\"\n\u001b[1;32m   2171\u001b[0m         \u001b[0;32mif\u001b[0m \u001b[0mdict\u001b[0m\u001b[0;34m.\u001b[0m\u001b[0m__len__\u001b[0m\u001b[0;34m(\u001b[0m\u001b[0mself\u001b[0m\u001b[0;34m)\u001b[0m \u001b[0;34m==\u001b[0m \u001b[0;36m0\u001b[0m\u001b[0;34m:\u001b[0m\u001b[0;34m\u001b[0m\u001b[0m\n\u001b[0;32m-> 2172\u001b[0;31m             \u001b[0mself\u001b[0m\u001b[0;34m.\u001b[0m\u001b[0mload\u001b[0m\u001b[0;34m(\u001b[0m\u001b[0;34m)\u001b[0m\u001b[0;34m\u001b[0m\u001b[0m\n\u001b[0m\u001b[1;32m   2173\u001b[0m         \u001b[0;32mif\u001b[0m \u001b[0mverb\u001b[0m\u001b[0;34m.\u001b[0m\u001b[0mlower\u001b[0m\u001b[0;34m(\u001b[0m\u001b[0;34m)\u001b[0m \u001b[0;32min\u001b[0m \u001b[0mself\u001b[0m\u001b[0;34m.\u001b[0m\u001b[0m_inverse\u001b[0m\u001b[0;34m:\u001b[0m\u001b[0;34m\u001b[0m\u001b[0m\n\u001b[1;32m   2174\u001b[0m             \u001b[0;32mreturn\u001b[0m \u001b[0mself\u001b[0m\u001b[0;34m.\u001b[0m\u001b[0m_inverse\u001b[0m\u001b[0;34m[\u001b[0m\u001b[0mverb\u001b[0m\u001b[0;34m.\u001b[0m\u001b[0mlower\u001b[0m\u001b[0;34m(\u001b[0m\u001b[0;34m)\u001b[0m\u001b[0;34m]\u001b[0m\u001b[0;34m\u001b[0m\u001b[0m\n",
      "\u001b[0;32m/usr/lib/python3.7/site-packages/pattern/text/__init__.py\u001b[0m in \u001b[0;36mload\u001b[0;34m(self)\u001b[0m\n\u001b[1;32m   2125\u001b[0m         \u001b[0;31m# have,,,has,,having,,,,,had,had,haven't,,,hasn't,,,,,,,hadn't,hadn't\u001b[0m\u001b[0;34m\u001b[0m\u001b[0;34m\u001b[0m\u001b[0m\n\u001b[1;32m   2126\u001b[0m         \u001b[0mid\u001b[0m \u001b[0;34m=\u001b[0m \u001b[0mself\u001b[0m\u001b[0;34m.\u001b[0m\u001b[0m_format\u001b[0m\u001b[0;34m[\u001b[0m\u001b[0mTENSES_ID\u001b[0m\u001b[0;34m[\u001b[0m\u001b[0mINFINITIVE\u001b[0m\u001b[0;34m]\u001b[0m\u001b[0;34m]\u001b[0m\u001b[0;34m\u001b[0m\u001b[0m\n\u001b[0;32m-> 2127\u001b[0;31m         \u001b[0;32mfor\u001b[0m \u001b[0mv\u001b[0m \u001b[0;32min\u001b[0m \u001b[0m_read\u001b[0m\u001b[0;34m(\u001b[0m\u001b[0mself\u001b[0m\u001b[0;34m.\u001b[0m\u001b[0m_path\u001b[0m\u001b[0;34m)\u001b[0m\u001b[0;34m:\u001b[0m\u001b[0;34m\u001b[0m\u001b[0m\n\u001b[0m\u001b[1;32m   2128\u001b[0m             \u001b[0mv\u001b[0m \u001b[0;34m=\u001b[0m \u001b[0mv\u001b[0m\u001b[0;34m.\u001b[0m\u001b[0msplit\u001b[0m\u001b[0;34m(\u001b[0m\u001b[0;34m\",\"\u001b[0m\u001b[0;34m)\u001b[0m\u001b[0;34m\u001b[0m\u001b[0m\n\u001b[1;32m   2129\u001b[0m             \u001b[0mdict\u001b[0m\u001b[0;34m.\u001b[0m\u001b[0m__setitem__\u001b[0m\u001b[0;34m(\u001b[0m\u001b[0mself\u001b[0m\u001b[0;34m,\u001b[0m \u001b[0mv\u001b[0m\u001b[0;34m[\u001b[0m\u001b[0mid\u001b[0m\u001b[0;34m]\u001b[0m\u001b[0;34m,\u001b[0m \u001b[0mv\u001b[0m\u001b[0;34m)\u001b[0m\u001b[0;34m\u001b[0m\u001b[0m\n",
      "\u001b[0;31mRuntimeError\u001b[0m: generator raised StopIteration"
     ]
    }
   ],
   "source": [
    "from pattern.en import lemma\n",
    "lemma('countries')"
   ]
  },
  {
   "cell_type": "code",
   "execution_count": 50,
   "metadata": {
    "ExecuteTime": {
     "end_time": "2018-10-18T20:00:17.227414Z",
     "start_time": "2018-10-18T20:00:17.222175Z"
    }
   },
   "outputs": [],
   "source": [
    "from nltk.stem import WordNetLemmatizer\n",
    "def lemma_passage(passage):\n",
    "    ret = list(range(len(passage)))\n",
    "    lemmatizer = WordNetLemmatizer()\n",
    "    for i, row in tqdm_notebook(enumerate(passage)):\n",
    "        nrow = []\n",
    "        for w, pos in nltk.pos_tag(row):\n",
    "            wordnet_pos = get_wordnet_pos(pos) or wordnet.NOUN\n",
    "            nrow.append(lemmatizer.lemmatize(w, pos=wordnet_pos))\n",
    "        ret[i] = nrow\n",
    "    return ret"
   ]
  },
  {
   "cell_type": "code",
   "execution_count": 51,
   "metadata": {
    "ExecuteTime": {
     "end_time": "2018-10-18T20:00:26.538248Z",
     "start_time": "2018-10-18T20:00:18.316650Z"
    }
   },
   "outputs": [
    {
     "data": {
      "application/vnd.jupyter.widget-view+json": {
       "model_id": "7acdf9b44abf44759f9d7858f051b71f",
       "version_major": 2,
       "version_minor": 0
      },
      "text/plain": [
       "HBox(children=(IntProgress(value=1, bar_style='info', max=1), HTML(value='')))"
      ]
     },
     "metadata": {},
     "output_type": "display_data"
    },
    {
     "name": "stdout",
     "output_type": "stream",
     "text": [
      "\n"
     ]
    }
   ],
   "source": [
    "passage_lemma = lemma_passage(passage)"
   ]
  },
  {
   "cell_type": "code",
   "execution_count": 73,
   "metadata": {
    "ExecuteTime": {
     "end_time": "2018-10-18T20:35:59.530710Z",
     "start_time": "2018-10-18T20:35:59.488829Z"
    }
   },
   "outputs": [],
   "source": [
    "import csv\n",
    "\n",
    "with open(\"output.csv\", \"w\") as f:\n",
    "    writer = csv.writer(f)\n",
    "    writer.writerows(passage)"
   ]
  },
  {
   "cell_type": "code",
   "execution_count": 72,
   "metadata": {
    "ExecuteTime": {
     "end_time": "2018-10-18T20:35:05.867750Z",
     "start_time": "2018-10-18T20:35:05.845050Z"
    }
   },
   "outputs": [],
   "source": [
    "with open(\"data/5/testData_processed_compressed.csv\", \"w\") as f:\n",
    "    writer = csv.writer(f)\n",
    "    writer.writerows(passage_try)"
   ]
  },
  {
   "cell_type": "code",
   "execution_count": null,
   "metadata": {},
   "outputs": [],
   "source": []
  }
 ],
 "metadata": {
  "kernelspec": {
   "display_name": "Python 3",
   "language": "python",
   "name": "python3"
  },
  "language_info": {
   "codemirror_mode": {
    "name": "ipython",
    "version": 3
   },
   "file_extension": ".py",
   "mimetype": "text/x-python",
   "name": "python",
   "nbconvert_exporter": "python",
   "pygments_lexer": "ipython3",
   "version": "3.7.0"
  },
  "varInspector": {
   "cols": {
    "lenName": 16,
    "lenType": 16,
    "lenVar": 40
   },
   "kernels_config": {
    "python": {
     "delete_cmd_postfix": "",
     "delete_cmd_prefix": "del ",
     "library": "var_list.py",
     "varRefreshCmd": "print(var_dic_list())"
    },
    "r": {
     "delete_cmd_postfix": ") ",
     "delete_cmd_prefix": "rm(",
     "library": "var_list.r",
     "varRefreshCmd": "cat(var_dic_list()) "
    }
   },
   "position": {
    "height": "307px",
    "left": "1070px",
    "right": "16px",
    "top": "120px",
    "width": "354px"
   },
   "types_to_exclude": [
    "module",
    "function",
    "builtin_function_or_method",
    "instance",
    "_Feature"
   ],
   "window_display": false
  }
 },
 "nbformat": 4,
 "nbformat_minor": 2
}
