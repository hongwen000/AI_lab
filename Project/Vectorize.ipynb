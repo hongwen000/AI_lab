{
 "cells": [
  {
   "cell_type": "code",
   "execution_count": 11,
   "metadata": {
    "ExecuteTime": {
     "end_time": "2018-10-21T12:48:57.765761Z",
     "start_time": "2018-10-21T12:48:57.762275Z"
    }
   },
   "outputs": [
    {
     "ename": "IndentationError",
     "evalue": "expected an indented block (<ipython-input-11-8eb530577754>, line 7)",
     "output_type": "error",
     "traceback": [
      "\u001b[0;36m  File \u001b[0;32m\"<ipython-input-11-8eb530577754>\"\u001b[0;36m, line \u001b[0;32m7\u001b[0m\n\u001b[0;31m    documents = list(range(len(trainData)))\u001b[0m\n\u001b[0m            ^\u001b[0m\n\u001b[0;31mIndentationError\u001b[0m\u001b[0;31m:\u001b[0m expected an indented block\n"
     ]
    }
   ],
   "source": [
    "    from ai_base import List2CSV, CSV2List2\n",
    "    from gensim.models.doc2vec import Doc2Vec, TaggedDocument\n",
    "    from typing import List, Tuple\n",
    "    import csv\n",
    "    import numpy as np\n",
    "def doc2vec(trainData: List[List], testData: List[List], savePath = \"\",fname = \"doc2vec.model\")-> Tuple[np.array, np.array]:\n",
    "    documents = list(range(len(trainData)))\n",
    "    for i, doc in enumerate(trainData):\n",
    "        documents[i] = TaggedDocument(doc, [i])\n",
    "    vec_sz=50\n",
    "    model = Doc2Vec(documents, vector_size=vec_sz, window=2, min_count=1, workers=12)\n",
    "    model.save(fname)\n",
    "    trainX = np.zeros((len(trainData), vec_sz))\n",
    "    testX = np.zeros((len(testData), vec_sz))\n",
    "    for i, data in enumerate(trainData):\n",
    "        trainX[i] = model.infer_vector(data)\n",
    "    for i, data in enumerate(testData):\n",
    "        testX[i] = model.infer_vector(data)\n",
    "    List2CSV(savePath + \"doc2vec\" + \"TrainSet\" + str(vec_sz) + \"D\" + str(len(trainData)) + \"L.csv\", trainX)\n",
    "    List2CSV(savePath + \"doc2vec\" + \"TestSet\" + str(vec_sz) + \"D\" + str(len(testData)) + \"L.csv\", testX)\n",
    "    return (trainX, testX)"
   ]
  },
  {
   "cell_type": "code",
   "execution_count": null,
   "metadata": {},
   "outputs": [],
   "source": []
  },
  {
   "cell_type": "code",
   "execution_count": null,
   "metadata": {
    "ExecuteTime": {
     "end_time": "2018-10-21T12:48:57.767629Z",
     "start_time": "2018-10-21T12:48:57.571Z"
    },
    "code_folding": []
   },
   "outputs": [],
   "source": [
    "from collections import OrderedDict\n",
    "def _getTFIDF(fdata: List[List], word_dict: OrderedDict) -> np.array:\n",
    "    '''\n",
    "    获取TF-IDF矩阵，并将每个单词及出现次数存储到word_dict中\n",
    "    '''\n",
    "    #首先获取文章数和单词向量\n",
    "    #使用OrderedDict按单词出现的顺序生成单词列表\n",
    "    #相比于使用list，好处在于每次判断word是否已经加入单词向量是log(n)复杂度\n",
    "    #文章数\n",
    "    D = len(fdata)\n",
    "    if len(word_dict) is 0:\n",
    "        #训练集\n",
    "        for row in fdata:\n",
    "            for word in row:\n",
    "                if not word in word_dict:\n",
    "                    word_dict[word] = 1\n",
    "                else:\n",
    "                    word_dict[word] += 1\n",
    "        word_dict[None] = 0\n",
    "    else:\n",
    "        #验证集和测试集，丢弃未出现的单词\n",
    "        word_dict = dict(zip(word_dict.keys(), [0 for _ in word_dict.values()]))\n",
    "        for row in fdata:\n",
    "            for word in row:\n",
    "                if word in word_dict:\n",
    "                    word_dict[word] += 1\n",
    "                else:\n",
    "                    word_dict[None] += 1\n",
    "    #word_vec是单词向量\n",
    "    word_vec = word_dict.keys()\n",
    "    #word_order的键值是当前单词的序号，在生成TF矩阵时会用到\n",
    "    word_order = dict(zip(word_vec,range(len(word_vec))))\n",
    "    #生成TF矩阵\n",
    "    TF = np.zeros((D,len(word_dict)))\n",
    "    for i,row in enumerate(fdata):\n",
    "        for word in row:\n",
    "            if word in word_order:\n",
    "                TF[i][word_order[word]] += 1\n",
    "            else:\n",
    "                TF[i][word_order[None]] += 1\n",
    "        #每个文章中单词出现次数归一化\n",
    "        TF[i] /= len(fdata[i])\n",
    "    #生成IDF矩阵\n",
    "    IDF = np.log2(D / (1 + np.array(list(word_dict.values()))))\n",
    "    TF = np.float16(TF)\n",
    "    IDF = np.float16(IDF)\n",
    "    #生成TF-IDF矩阵\n",
    "    TF_IDF = np.multiply(TF, IDF)\n",
    "    return TF_IDF"
   ]
  },
  {
   "cell_type": "code",
   "execution_count": null,
   "metadata": {
    "ExecuteTime": {
     "end_time": "2018-10-21T12:48:57.769395Z",
     "start_time": "2018-10-21T12:48:57.716Z"
    }
   },
   "outputs": [],
   "source": [
    "def TFIDF(trainData: List[List], testData: List[List], savePath=\"\")-> Tuple[np.array, np.array]:\n",
    "    wdict = OrderedDict()\n",
    "    trainX = _getTFIDF(trainData, wdict)\n",
    "    testX = _getTFIDF(testData, wdict)\n",
    "    List2CSV(savePath + \"tfidf\" + \"TrainSet\" + str(len(wdict)) + \"D\" + str(len(trainData)) + \"L.csv\", trainX)\n",
    "    List2CSV(savePath + \"tfidf\" + \"TestSet\" + str(len(wdict)) + \"D\" + str(len(testData)) + \"L.csv\", testData)\n",
    "    return trainX, testX\n"
   ]
  },
  {
   "cell_type": "code",
   "execution_count": null,
   "metadata": {
    "ExecuteTime": {
     "end_time": "2018-10-21T12:48:57.771268Z",
     "start_time": "2018-10-21T12:48:58.001Z"
    },
    "code_folding": []
   },
   "outputs": [],
   "source": [
    "def _getOneHot(fdata: List[List], word_dict: OrderedDict) -> np.array:\n",
    "    D = len(fdata)\n",
    "    if len(word_dict) is 0:\n",
    "        for row in fdata:\n",
    "            for word in row:\n",
    "                if not word in word_dict:\n",
    "                    word_dict[word] = 1\n",
    "        word_dict[None] = 0\n",
    "    else:\n",
    "        word_dict = dict(zip(word_dict.keys(), [0 for _ in word_dict.values()]))\n",
    "        for row in fdata:\n",
    "            for word in row:\n",
    "                if word in word_dict:\n",
    "                    word_dict[word] = 1\n",
    "                else:\n",
    "                    word_dict[None] = 1\n",
    "    word_vec = word_dict.keys()\n",
    "    word_order = dict(zip(word_vec,range(len(word_vec))))\n",
    "    oneHot = np.zeros((D,len(word_dict)), dtype=np.int8)\n",
    "    for i,row in enumerate(fdata):\n",
    "        for word in row:\n",
    "            if word in word_order:\n",
    "                oneHot[i][word_order[word]] = 1\n",
    "            else:\n",
    "                oneHot[i][word_order[None]] = 1\n",
    "    return oneHot"
   ]
  },
  {
   "cell_type": "code",
   "execution_count": null,
   "metadata": {
    "ExecuteTime": {
     "end_time": "2018-10-21T12:48:57.773181Z",
     "start_time": "2018-10-21T12:48:58.376Z"
    }
   },
   "outputs": [],
   "source": [
    "def OneHot(trainData: List[List], testData: List[List], savePath=\"\")-> Tuple[np.array, np.array]:\n",
    "    wdict = OrderedDict()\n",
    "    trainX = _getOneHot(trainData, wdict)\n",
    "    testX = _getOneHot(testData, wdict)\n",
    "    if savePath != \"-1\":\n",
    "        List2CSV(savePath + \"onehot\" + \"TrainSet\" + str(len(wdict)) + \"D\" + str(len(trainData)) + \"L.csv\", trainX)\n",
    "        List2CSV(savePath + \"onehot\" + \"TestSet\" + str(len(wdict)) + \"D\" + str(len(testData)) + \"L.csv\", testData)\n",
    "    return trainX, testX\n"
   ]
  },
  {
   "cell_type": "code",
   "execution_count": 12,
   "metadata": {
    "ExecuteTime": {
     "end_time": "2018-10-21T12:48:58.624306Z",
     "start_time": "2018-10-21T12:48:58.038307Z"
    }
   },
   "outputs": [],
   "source": [
    "# import csv\n",
    "# ret = []\n",
    "# with open('data/2/clean/trainDataclean.csv', 'r') as f:\n",
    "#     reader = csv.reader(f)\n",
    "#     for row in reader:\n",
    "#         ret.append(list(row))\n",
    "trainData = CSV2List2('data/2/clean/trainDataclean.csv')\n",
    "testData = CSV2List2('data/2/clean/testDataclean.csv')\n",
    "# trainData = [[w.lower() for w in row] for row in trainData]\n",
    "# trainData = [[w.lower() for w in row] for row in testData]\n"
   ]
  },
  {
   "cell_type": "code",
   "execution_count": 71,
   "metadata": {
    "ExecuteTime": {
     "end_time": "2018-10-20T03:55:51.829573Z",
     "start_time": "2018-10-20T03:55:51.827700Z"
    }
   },
   "outputs": [
    {
     "data": {
      "text/plain": [
       "24000"
      ]
     },
     "execution_count": 71,
     "metadata": {},
     "output_type": "execute_result"
    }
   ],
   "source": [
    "len(trainData)"
   ]
  },
  {
   "cell_type": "code",
   "execution_count": 7,
   "metadata": {
    "ExecuteTime": {
     "end_time": "2018-10-19T16:58:01.674990Z",
     "start_time": "2018-10-19T16:57:48.317665Z"
    }
   },
   "outputs": [],
   "source": [
    "trainX, testX = doc2vec(trainData, testData)"
   ]
  },
  {
   "cell_type": "code",
   "execution_count": 9,
   "metadata": {
    "ExecuteTime": {
     "end_time": "2018-10-20T04:05:58.152228Z",
     "start_time": "2018-10-20T04:02:32.861205Z"
    }
   },
   "outputs": [],
   "source": [
    "trainX2, testX2 = TFIDF(trainData, testData)"
   ]
  },
  {
   "cell_type": "code",
   "execution_count": 13,
   "metadata": {
    "ExecuteTime": {
     "end_time": "2018-10-21T12:55:33.808658Z",
     "start_time": "2018-10-21T12:49:04.703724Z"
    }
   },
   "outputs": [],
   "source": [
    "trainX3, testX3 = OneHot(trainData, testData)"
   ]
  },
  {
   "cell_type": "code",
   "execution_count": 17,
   "metadata": {
    "ExecuteTime": {
     "end_time": "2018-10-21T13:09:34.125904Z",
     "start_time": "2018-10-21T13:09:34.123778Z"
    }
   },
   "outputs": [
    {
     "data": {
      "text/plain": [
       "24000"
      ]
     },
     "execution_count": 17,
     "metadata": {},
     "output_type": "execute_result"
    }
   ],
   "source": [
    "len(trainX3)"
   ]
  }
 ],
 "metadata": {
  "kernelspec": {
   "display_name": "Python 3",
   "language": "python",
   "name": "python3"
  },
  "language_info": {
   "codemirror_mode": {
    "name": "ipython",
    "version": 3
   },
   "file_extension": ".py",
   "mimetype": "text/x-python",
   "name": "python",
   "nbconvert_exporter": "python",
   "pygments_lexer": "ipython3",
   "version": "3.7.0"
  },
  "varInspector": {
   "cols": {
    "lenName": 16,
    "lenType": 16,
    "lenVar": 40
   },
   "kernels_config": {
    "python": {
     "delete_cmd_postfix": "",
     "delete_cmd_prefix": "del ",
     "library": "var_list.py",
     "varRefreshCmd": "print(var_dic_list())"
    },
    "r": {
     "delete_cmd_postfix": ") ",
     "delete_cmd_prefix": "rm(",
     "library": "var_list.r",
     "varRefreshCmd": "cat(var_dic_list()) "
    }
   },
   "types_to_exclude": [
    "module",
    "function",
    "builtin_function_or_method",
    "instance",
    "_Feature"
   ],
   "window_display": false
  }
 },
 "nbformat": 4,
 "nbformat_minor": 2
}
