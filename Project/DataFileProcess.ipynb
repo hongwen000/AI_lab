{
 "cells": [
  {
   "cell_type": "code",
   "execution_count": 1,
   "metadata": {
    "ExecuteTime": {
     "end_time": "2018-10-21T11:01:42.986391Z",
     "start_time": "2018-10-21T11:01:41.662956Z"
    }
   },
   "outputs": [
    {
     "ename": "RuntimeError",
     "evalue": "generator raised StopIteration",
     "output_type": "error",
     "traceback": [
      "\u001b[0;31m---------------------------------------------------------------------------\u001b[0m",
      "\u001b[0;31mStopIteration\u001b[0m                             Traceback (most recent call last)",
      "\u001b[0;32m/usr/lib/python3.7/site-packages/pattern/text/__init__.py\u001b[0m in \u001b[0;36m_read\u001b[0;34m(path, encoding, comment)\u001b[0m\n\u001b[1;32m    608\u001b[0m             \u001b[0;32myield\u001b[0m \u001b[0mline\u001b[0m\u001b[0;34m\u001b[0m\u001b[0m\n\u001b[0;32m--> 609\u001b[0;31m     \u001b[0;32mraise\u001b[0m \u001b[0mStopIteration\u001b[0m\u001b[0;34m\u001b[0m\u001b[0m\n\u001b[0m\u001b[1;32m    610\u001b[0m \u001b[0;34m\u001b[0m\u001b[0m\n",
      "\u001b[0;31mStopIteration\u001b[0m: ",
      "\nThe above exception was the direct cause of the following exception:\n",
      "\u001b[0;31mRuntimeError\u001b[0m                              Traceback (most recent call last)",
      "\u001b[0;32m<ipython-input-1-d85a0301b6b8>\u001b[0m in \u001b[0;36m<module>\u001b[0;34m()\u001b[0m\n\u001b[1;32m      1\u001b[0m \u001b[0;32mfrom\u001b[0m \u001b[0mpattern\u001b[0m\u001b[0;34m.\u001b[0m\u001b[0men\u001b[0m \u001b[0;32mimport\u001b[0m \u001b[0mlemma\u001b[0m\u001b[0;34m\u001b[0m\u001b[0m\n\u001b[0;32m----> 2\u001b[0;31m \u001b[0mlemma\u001b[0m\u001b[0;34m(\u001b[0m\u001b[0;34m'countries'\u001b[0m\u001b[0;34m)\u001b[0m\u001b[0;34m\u001b[0m\u001b[0m\n\u001b[0m",
      "\u001b[0;32m/usr/lib/python3.7/site-packages/pattern/text/__init__.py\u001b[0m in \u001b[0;36mlemma\u001b[0;34m(self, verb, parse)\u001b[0m\n\u001b[1;32m   2170\u001b[0m         \"\"\"\n\u001b[1;32m   2171\u001b[0m         \u001b[0;32mif\u001b[0m \u001b[0mdict\u001b[0m\u001b[0;34m.\u001b[0m\u001b[0m__len__\u001b[0m\u001b[0;34m(\u001b[0m\u001b[0mself\u001b[0m\u001b[0;34m)\u001b[0m \u001b[0;34m==\u001b[0m \u001b[0;36m0\u001b[0m\u001b[0;34m:\u001b[0m\u001b[0;34m\u001b[0m\u001b[0m\n\u001b[0;32m-> 2172\u001b[0;31m             \u001b[0mself\u001b[0m\u001b[0;34m.\u001b[0m\u001b[0mload\u001b[0m\u001b[0;34m(\u001b[0m\u001b[0;34m)\u001b[0m\u001b[0;34m\u001b[0m\u001b[0m\n\u001b[0m\u001b[1;32m   2173\u001b[0m         \u001b[0;32mif\u001b[0m \u001b[0mverb\u001b[0m\u001b[0;34m.\u001b[0m\u001b[0mlower\u001b[0m\u001b[0;34m(\u001b[0m\u001b[0;34m)\u001b[0m \u001b[0;32min\u001b[0m \u001b[0mself\u001b[0m\u001b[0;34m.\u001b[0m\u001b[0m_inverse\u001b[0m\u001b[0;34m:\u001b[0m\u001b[0;34m\u001b[0m\u001b[0m\n\u001b[1;32m   2174\u001b[0m             \u001b[0;32mreturn\u001b[0m \u001b[0mself\u001b[0m\u001b[0;34m.\u001b[0m\u001b[0m_inverse\u001b[0m\u001b[0;34m[\u001b[0m\u001b[0mverb\u001b[0m\u001b[0;34m.\u001b[0m\u001b[0mlower\u001b[0m\u001b[0;34m(\u001b[0m\u001b[0;34m)\u001b[0m\u001b[0;34m]\u001b[0m\u001b[0;34m\u001b[0m\u001b[0m\n",
      "\u001b[0;32m/usr/lib/python3.7/site-packages/pattern/text/__init__.py\u001b[0m in \u001b[0;36mload\u001b[0;34m(self)\u001b[0m\n\u001b[1;32m   2125\u001b[0m         \u001b[0;31m# have,,,has,,having,,,,,had,had,haven't,,,hasn't,,,,,,,hadn't,hadn't\u001b[0m\u001b[0;34m\u001b[0m\u001b[0;34m\u001b[0m\u001b[0m\n\u001b[1;32m   2126\u001b[0m         \u001b[0mid\u001b[0m \u001b[0;34m=\u001b[0m \u001b[0mself\u001b[0m\u001b[0;34m.\u001b[0m\u001b[0m_format\u001b[0m\u001b[0;34m[\u001b[0m\u001b[0mTENSES_ID\u001b[0m\u001b[0;34m[\u001b[0m\u001b[0mINFINITIVE\u001b[0m\u001b[0;34m]\u001b[0m\u001b[0;34m]\u001b[0m\u001b[0;34m\u001b[0m\u001b[0m\n\u001b[0;32m-> 2127\u001b[0;31m         \u001b[0;32mfor\u001b[0m \u001b[0mv\u001b[0m \u001b[0;32min\u001b[0m \u001b[0m_read\u001b[0m\u001b[0;34m(\u001b[0m\u001b[0mself\u001b[0m\u001b[0;34m.\u001b[0m\u001b[0m_path\u001b[0m\u001b[0;34m)\u001b[0m\u001b[0;34m:\u001b[0m\u001b[0;34m\u001b[0m\u001b[0m\n\u001b[0m\u001b[1;32m   2128\u001b[0m             \u001b[0mv\u001b[0m \u001b[0;34m=\u001b[0m \u001b[0mv\u001b[0m\u001b[0;34m.\u001b[0m\u001b[0msplit\u001b[0m\u001b[0;34m(\u001b[0m\u001b[0;34m\",\"\u001b[0m\u001b[0;34m)\u001b[0m\u001b[0;34m\u001b[0m\u001b[0m\n\u001b[1;32m   2129\u001b[0m             \u001b[0mdict\u001b[0m\u001b[0;34m.\u001b[0m\u001b[0m__setitem__\u001b[0m\u001b[0;34m(\u001b[0m\u001b[0mself\u001b[0m\u001b[0;34m,\u001b[0m \u001b[0mv\u001b[0m\u001b[0;34m[\u001b[0m\u001b[0mid\u001b[0m\u001b[0;34m]\u001b[0m\u001b[0;34m,\u001b[0m \u001b[0mv\u001b[0m\u001b[0;34m)\u001b[0m\u001b[0;34m\u001b[0m\u001b[0m\n",
      "\u001b[0;31mRuntimeError\u001b[0m: generator raised StopIteration"
     ]
    }
   ],
   "source": [
    "from pattern.en import lemma\n",
    "lemma('countries')\n"
   ]
  },
  {
   "cell_type": "code",
   "execution_count": 4,
   "metadata": {
    "ExecuteTime": {
     "end_time": "2018-10-21T11:02:42.388274Z",
     "start_time": "2018-10-21T11:02:39.989428Z"
    }
   },
   "outputs": [],
   "source": [
    "import PreProcessing"
   ]
  },
  {
   "cell_type": "code",
   "execution_count": 5,
   "metadata": {
    "ExecuteTime": {
     "end_time": "2018-10-21T11:13:52.288439Z",
     "start_time": "2018-10-21T11:02:48.939322Z"
    }
   },
   "outputs": [
    {
     "name": "stdout",
     "output_type": "stream",
     "text": [
      "Step 1: Spliting words\n"
     ]
    },
    {
     "data": {
      "application/vnd.jupyter.widget-view+json": {
       "model_id": "45ca12c5161f49f386e558df5a0dfc53",
       "version_major": 2,
       "version_minor": 0
      },
      "text/plain": [
       "HBox(children=(IntProgress(value=0, max=24000), HTML(value='')))"
      ]
     },
     "metadata": {},
     "output_type": "display_data"
    },
    {
     "name": "stdout",
     "output_type": "stream",
     "text": [
      "\n",
      "#word After spliting:  9326627\n",
      "Step 2: Remove punc\n"
     ]
    },
    {
     "data": {
      "application/vnd.jupyter.widget-view+json": {
       "model_id": "a520d957f77549d8894455b1ffa51fa4",
       "version_major": 2,
       "version_minor": 0
      },
      "text/plain": [
       "HBox(children=(IntProgress(value=0, max=24000), HTML(value='')))"
      ]
     },
     "metadata": {},
     "output_type": "display_data"
    },
    {
     "name": "stdout",
     "output_type": "stream",
     "text": [
      "\n",
      "#word After removing punc:  7970279\n",
      "Step 3: Checking lemma using 12 processes\n",
      "Words:  60760\n",
      "Waiting for all subprocesses done...\n",
      "\n",
      "There are 15801 errors in 661676 words, error rate : 0.02388026768388154\n",
      "\n",
      "There are 15441 errors in 651524 words, error rate : 0.02369981765829041\n",
      "\n",
      "There are 15390 errors in 650969 words, error rate : 0.023641678789619782\n",
      "\n",
      "There are 15941 errors in 680399 words, error rate : 0.02342889980731894\n",
      "\n",
      "There are 15520 errors in 657413 words, error rate : 0.023607686492357165\n",
      "\n",
      "There are 15808 errors in 684077 words, error rate : 0.02310850971454968\n",
      "\n",
      "There are 15986 errors in 669497 words, error rate : 0.023877627532311572\n",
      "\n",
      "There are 15258 errors in 657208 words, error rate : 0.02321639420092269\n",
      "\n",
      "There are 16021 errors in 664354 words, error rate : 0.024115155474340486\n",
      "\n",
      "There are 15889 errors in 674606 words, error rate : 0.02355300723681675\n",
      "\n",
      "There are 15270 errors in 653869 words, error rate : 0.023353301655224517\n",
      "\n",
      "There are 15347 errors in 664687 words, error rate : 0.02308906297249683\n",
      "All subprocesses done.\n",
      "Words:  60760\n",
      "Step 4: Lemma\n"
     ]
    },
    {
     "data": {
      "application/vnd.jupyter.widget-view+json": {
       "model_id": "b560162f3a454b2b9385a17f995b1a40",
       "version_major": 2,
       "version_minor": 0
      },
      "text/plain": [
       "HBox(children=(IntProgress(value=1, bar_style='info', max=1), HTML(value='')))"
      ]
     },
     "metadata": {},
     "output_type": "display_data"
    },
    {
     "name": "stdout",
     "output_type": "stream",
     "text": [
      "\n",
      "#word After lemma:  7970279\n",
      "Words:  51169\n",
      "Step 5: Remove stopwords\n",
      "#word After removing stopwords:  7970279\n",
      "File [data/5/trainDataclean.csv] (24000 lines) saved\n",
      "File [data/5/trainDataclean_compress.csv] (24000 lines) saved\n"
     ]
    }
   ],
   "source": [
    "ret = PreProcessing.PreProcess('data/5/trainData.txt')"
   ]
  },
  {
   "cell_type": "code",
   "execution_count": 6,
   "metadata": {
    "ExecuteTime": {
     "end_time": "2018-10-20T15:36:49.203378Z",
     "start_time": "2018-10-20T15:34:14.918707Z"
    }
   },
   "outputs": [
    {
     "name": "stdout",
     "output_type": "stream",
     "text": [
      "Step 1: Spliting words\n"
     ]
    },
    {
     "data": {
      "application/vnd.jupyter.widget-view+json": {
       "model_id": "09dbbb3ba89044bea62bdbb0354b56dc",
       "version_major": 2,
       "version_minor": 0
      },
      "text/plain": [
       "HBox(children=(IntProgress(value=0, max=6000), HTML(value='')))"
      ]
     },
     "metadata": {},
     "output_type": "display_data"
    },
    {
     "name": "stdout",
     "output_type": "stream",
     "text": [
      "#word After spliting:  2321182\n",
      "Step 2: Remove punc\n"
     ]
    },
    {
     "data": {
      "application/vnd.jupyter.widget-view+json": {
       "model_id": "59fa82119e534d63886aabbf28e42483",
       "version_major": 2,
       "version_minor": 0
      },
      "text/plain": [
       "HBox(children=(IntProgress(value=0, max=6000), HTML(value='')))"
      ]
     },
     "metadata": {},
     "output_type": "display_data"
    },
    {
     "name": "stdout",
     "output_type": "stream",
     "text": [
      "#word After removing punc:  1983144\n",
      "Step 3: Checking lemma using 12 processes\n",
      "Waiting for all subprocesses done...\n",
      "There are 3766 errors in 164320 words, error rate : 0.02291869522882181\n",
      "There are 3895 errors in 166724 words, error rate : 0.02336196348456131\n",
      "There are 3892 errors in 167708 words, error rate : 0.023207002647458678\n",
      "There are 4083 errors in 167431 words, error rate : 0.024386165047094028\n",
      "There are 4189 errors in 172992 words, error rate : 0.02421499260081391\n",
      "There are 3441 errors in 156519 words, error rate : 0.021984551396316103\n",
      "There are 3788 errors in 159948 words, error rate : 0.023682696876484857\n",
      "There are 3906 errors in 172692 words, error rate : 0.022618303106107983\n",
      "There are 4229 errors in 167587 words, error rate : 0.025234654239290638\n",
      "There are 3900 errors in 157875 words, error rate : 0.02470308788598575\n",
      "There are 3887 errors in 166462 words, error rate : 0.02335067462844373\n",
      "There are 3582 errors in 162886 words, error rate : 0.021990840219540047\n",
      "All subprocesses done.\n",
      "Step 4: Lemma\n"
     ]
    },
    {
     "data": {
      "application/vnd.jupyter.widget-view+json": {
       "model_id": "cadae238adab404cb1aef3968464916f",
       "version_major": 2,
       "version_minor": 0
      },
      "text/plain": [
       "HBox(children=(IntProgress(value=1, bar_style='info', max=1), HTML(value='')))"
      ]
     },
     "metadata": {},
     "output_type": "display_data"
    },
    {
     "name": "stdout",
     "output_type": "stream",
     "text": [
      "#word After lemma:  1983144\n",
      "Step 5: Remove stopwords\n",
      "#word After removing stopwords:  1983144\n",
      "File [data/5/testDataclean.csv] (6000 lines) saved\n",
      "File [data/5/testDataclean_compress.csv] (6000 lines) saved\n"
     ]
    }
   ],
   "source": [
    "ret = PreProcessing.PreProcess('data/5/testData.txt')"
   ]
  },
  {
   "cell_type": "code",
   "execution_count": 5,
   "metadata": {
    "ExecuteTime": {
     "end_time": "2018-10-19T04:11:13.427381Z",
     "start_time": "2018-10-19T04:11:12.863428Z"
    },
    "scrolled": true
   },
   "outputs": [],
   "source": [
    "ret = [[w.lower() for w in row] for row in ret]"
   ]
  },
  {
   "cell_type": "code",
   "execution_count": 6,
   "metadata": {
    "ExecuteTime": {
     "end_time": "2018-10-19T04:11:15.767169Z",
     "start_time": "2018-10-19T04:11:15.729950Z"
    },
    "collapsed": true
   },
   "outputs": [
    {
     "data": {
      "text/plain": [
       "['as',\n",
       " 'long',\n",
       " 'a',\n",
       " 'there',\n",
       " 'be',\n",
       " 'technology',\n",
       " 'i',\n",
       " 'think',\n",
       " 'there',\n",
       " 'be',\n",
       " 'animation',\n",
       " 'make',\n",
       " 'for',\n",
       " 'it',\n",
       " 'i',\n",
       " 'remember',\n",
       " 'specifically',\n",
       " 'a',\n",
       " 'donald',\n",
       " 'duck',\n",
       " 'cartoon',\n",
       " 'with',\n",
       " 'chip',\n",
       " 'and',\n",
       " 'dale',\n",
       " 'in',\n",
       " 'it',\n",
       " 'i',\n",
       " 'do',\n",
       " 'remember',\n",
       " 'the',\n",
       " 'name',\n",
       " 'at',\n",
       " 'the',\n",
       " 'moment',\n",
       " 'but',\n",
       " 'the',\n",
       " 'plot',\n",
       " 'be',\n",
       " 'that',\n",
       " 'donald',\n",
       " 'work',\n",
       " 'at',\n",
       " 'a',\n",
       " 'circus',\n",
       " 'be',\n",
       " 'feed',\n",
       " 'an',\n",
       " 'elephant',\n",
       " 'peanut',\n",
       " 'and',\n",
       " 'chip',\n",
       " 'and',\n",
       " 'dale',\n",
       " 'be',\n",
       " 'steal',\n",
       " 'the',\n",
       " 'peanut',\n",
       " 'this',\n",
       " 'be',\n",
       " 'make',\n",
       " 'to',\n",
       " 'watch',\n",
       " 'in',\n",
       " 'probably',\n",
       " 'if',\n",
       " 'you',\n",
       " 'happen',\n",
       " 'to',\n",
       " 'watch',\n",
       " 'meet',\n",
       " 'the',\n",
       " 'robinsons',\n",
       " 'in',\n",
       " 'in',\n",
       " 'theater',\n",
       " 'they',\n",
       " 'show',\n",
       " 'this',\n",
       " 'cartoon',\n",
       " 'before',\n",
       " 'the',\n",
       " 'movie',\n",
       " 'and',\n",
       " 'explain',\n",
       " 'the',\n",
       " 'detail',\n",
       " 'of',\n",
       " 'it',\n",
       " 'origin',\n",
       " 'there',\n",
       " 'be',\n",
       " 'probably',\n",
       " 'somewhere',\n",
       " 'around',\n",
       " 'cartoon',\n",
       " 'make',\n",
       " 'specifically',\n",
       " 'to',\n",
       " 'be',\n",
       " 'view',\n",
       " 'through',\n",
       " 'glass',\n",
       " 'this',\n",
       " 'claim',\n",
       " 'be',\n",
       " 'a',\n",
       " 'bad',\n",
       " 'move',\n",
       " 'because',\n",
       " 'it',\n",
       " 'not',\n",
       " 'difficult',\n",
       " 'to',\n",
       " 'prove',\n",
       " 'them',\n",
       " 'wrong',\n",
       " 'on',\n",
       " 'top',\n",
       " 'of',\n",
       " 'that',\n",
       " 'this',\n",
       " 'just',\n",
       " 'look',\n",
       " 'like',\n",
       " 'a',\n",
       " 'bad',\n",
       " 'movie']"
      ]
     },
     "execution_count": 6,
     "metadata": {},
     "output_type": "execute_result"
    }
   ],
   "source": [
    "ret[0]"
   ]
  },
  {
   "cell_type": "code",
   "execution_count": 7,
   "metadata": {
    "ExecuteTime": {
     "end_time": "2018-10-19T15:33:22.077461Z",
     "start_time": "2018-10-19T15:33:22.071986Z"
    }
   },
   "outputs": [],
   "source": []
  },
  {
   "cell_type": "code",
   "execution_count": 8,
   "metadata": {
    "ExecuteTime": {
     "end_time": "2018-10-19T15:33:58.141295Z",
     "start_time": "2018-10-19T15:33:58.019420Z"
    }
   },
   "outputs": [],
   "source": []
  },
  {
   "cell_type": "code",
   "execution_count": 13,
   "metadata": {
    "ExecuteTime": {
     "end_time": "2018-10-19T15:34:48.596066Z",
     "start_time": "2018-10-19T15:34:48.582502Z"
    }
   },
   "outputs": [],
   "source": []
  },
  {
   "cell_type": "code",
   "execution_count": 14,
   "metadata": {
    "ExecuteTime": {
     "end_time": "2018-10-19T15:34:50.517474Z",
     "start_time": "2018-10-19T15:34:50.514803Z"
    }
   },
   "outputs": [
    {
     "data": {
      "text/plain": [
       "array([[0.],\n",
       "       [1.],\n",
       "       [1.],\n",
       "       ...,\n",
       "       [0.],\n",
       "       [0.],\n",
       "       [1.]])"
      ]
     },
     "execution_count": 14,
     "metadata": {},
     "output_type": "execute_result"
    }
   ],
   "source": [
    "ret"
   ]
  },
  {
   "cell_type": "code",
   "execution_count": 4,
   "metadata": {
    "ExecuteTime": {
     "end_time": "2018-10-19T16:22:49.025752Z",
     "start_time": "2018-10-19T16:22:49.019371Z"
    }
   },
   "outputs": [],
   "source": []
  },
  {
   "cell_type": "code",
   "execution_count": 5,
   "metadata": {
    "ExecuteTime": {
     "end_time": "2018-10-19T16:22:49.386007Z",
     "start_time": "2018-10-19T16:22:49.370809Z"
    }
   },
   "outputs": [],
   "source": []
  },
  {
   "cell_type": "code",
   "execution_count": 6,
   "metadata": {
    "ExecuteTime": {
     "end_time": "2018-10-19T16:22:50.903669Z",
     "start_time": "2018-10-19T16:22:50.889229Z"
    }
   },
   "outputs": [
    {
     "data": {
      "text/plain": [
       "array([[1, 0],\n",
       "       [0, 1],\n",
       "       [0, 1],\n",
       "       ...,\n",
       "       [1, 0],\n",
       "       [1, 0],\n",
       "       [0, 1]])"
      ]
     },
     "execution_count": 6,
     "metadata": {},
     "output_type": "execute_result"
    }
   ],
   "source": []
  },
  {
   "cell_type": "code",
   "execution_count": null,
   "metadata": {},
   "outputs": [],
   "source": []
  }
 ],
 "metadata": {
  "kernelspec": {
   "display_name": "Python 3",
   "language": "python",
   "name": "python3"
  },
  "language_info": {
   "codemirror_mode": {
    "name": "ipython",
    "version": 3
   },
   "file_extension": ".py",
   "mimetype": "text/x-python",
   "name": "python",
   "nbconvert_exporter": "python",
   "pygments_lexer": "ipython3",
   "version": "3.7.0"
  },
  "varInspector": {
   "cols": {
    "lenName": 16,
    "lenType": 16,
    "lenVar": 40
   },
   "kernels_config": {
    "python": {
     "delete_cmd_postfix": "",
     "delete_cmd_prefix": "del ",
     "library": "var_list.py",
     "varRefreshCmd": "print(var_dic_list())"
    },
    "r": {
     "delete_cmd_postfix": ") ",
     "delete_cmd_prefix": "rm(",
     "library": "var_list.r",
     "varRefreshCmd": "cat(var_dic_list()) "
    }
   },
   "types_to_exclude": [
    "module",
    "function",
    "builtin_function_or_method",
    "instance",
    "_Feature"
   ],
   "window_display": false
  }
 },
 "nbformat": 4,
 "nbformat_minor": 2
}
