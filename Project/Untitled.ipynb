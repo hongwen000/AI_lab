{
 "cells": [
  {
   "cell_type": "code",
   "execution_count": 125,
   "metadata": {
    "ExecuteTime": {
     "end_time": "2018-10-18T18:20:02.673853Z",
     "start_time": "2018-10-18T18:20:02.667617Z"
    }
   },
   "outputs": [],
   "source": [
    "from multiprocessing import Pool, Queue\n",
    "import os, time, random\n",
    "from typing import List, NoReturn, Callable\n",
    "    \n",
    "def list_process(sub_lst: List)->List:\n",
    "    print('Run task (%s)...' % (os.getpid()))\n",
    "    start = time.time()\n",
    "    for i in range(len(sub_lst)):\n",
    "        for j in range(len(sub_lst[i])):\n",
    "            sub_lst[i][j] = sub_lst[i][j] * sub_lst[i][j]\n",
    "    end = time.time()\n",
    "    return sub_lst\n",
    "\n",
    "def list_multiprocess(lst: List, func: Callable[[List],List], n: int)-> List:   \n",
    "    p = Pool(n)\n",
    "    lists = []\n",
    "    psize = int(len(lst) / n)\n",
    "    if psize < 1:\n",
    "        func(lst)\n",
    "        return\n",
    "    for i in range(n - 1):\n",
    "        lists.append(lst[i * psize: (i+1) * psize])\n",
    "    lists.append(lst[(n-1) * psize:])\n",
    "    ret = []\n",
    "    for i in range(n):\n",
    "        ret.append(p.apply_async(func, args=(lists[i],)))\n",
    "    print('Waiting for all subprocesses done...')\n",
    "    p.close()\n",
    "    p.join()\n",
    "    last = []\n",
    "    for i in ret:\n",
    "        last += i.get()\n",
    "    print('All subprocesses done.')\n",
    "    return last"
   ]
  },
  {
   "cell_type": "code",
   "execution_count": 126,
   "metadata": {
    "ExecuteTime": {
     "end_time": "2018-10-18T18:20:03.167181Z",
     "start_time": "2018-10-18T18:20:03.041721Z"
    }
   },
   "outputs": [
    {
     "name": "stdout",
     "output_type": "stream",
     "text": [
      "Run task (9759)...\n",
      "Run task (9757)...\n",
      "Run task (9758)...\n",
      "Run task (9760)...\n",
      "Waiting for all subprocesses done...\n",
      "All subprocesses done.\n"
     ]
    },
    {
     "data": {
      "text/plain": [
       "[[1, 4], [9, 16], [25, 36], [49, 64], [81, 100], [121, 144]]"
      ]
     },
     "execution_count": 126,
     "metadata": {},
     "output_type": "execute_result"
    }
   ],
   "source": [
    "l = [[1,2],\n",
    "     [3,4],\n",
    "     [5,6],\n",
    "     [7,8],\n",
    "     [9,10],\n",
    "     [11,12]\n",
    "    ]\n",
    "list_multiprocess(l, list_process, 4)"
   ]
  },
  {
   "cell_type": "code",
   "execution_count": 27,
   "metadata": {
    "ExecuteTime": {
     "end_time": "2018-10-18T17:45:33.887511Z",
     "start_time": "2018-10-18T17:45:33.883048Z"
    }
   },
   "outputs": [
    {
     "name": "stdout",
     "output_type": "stream",
     "text": [
      "[[1, 2], [3, 4], [5, 6], [7, 8], [9, 10], [11, 12]]\n"
     ]
    }
   ],
   "source": [
    "print(l)"
   ]
  },
  {
   "cell_type": "code",
   "execution_count": 32,
   "metadata": {
    "ExecuteTime": {
     "end_time": "2018-10-18T17:47:12.233870Z",
     "start_time": "2018-10-18T17:47:08.896361Z"
    }
   },
   "outputs": [
    {
     "name": "stdout",
     "output_type": "stream",
     "text": [
      "Parent process 32476.\n",
      "Run task 2 (7568)...\n",
      "Run task 0 (7566)...\n",
      "Run task 1 (7567)...\n",
      "Run task 3 (7569)...\n",
      "Waiting for all subprocesses done...\n",
      "Task 1 runs 0.43 seconds.\n",
      "Run task 4 (7567)...\n",
      "Task 3 runs 0.56 seconds.\n",
      "Task 0 runs 1.09 seconds.\n",
      "Task 2 runs 2.94 seconds.\n",
      "Task 4 runs 2.86 seconds.\n",
      "All subprocesses done.\n"
     ]
    }
   ],
   "source": [
    "from multiprocessing import Pool\n",
    "import os, time, random\n",
    "\n",
    "def long_time_task(name):\n",
    "    print('Run task %s (%s)...' % (name, os.getpid()))\n",
    "    start = time.time()\n",
    "    time.sleep(random.random() * 3)\n",
    "    end = time.time()\n",
    "    print('Task %s runs %0.2f seconds.' % (name, (end - start)))\n",
    "\n",
    "if __name__=='__main__':\n",
    "    print('Parent process %s.' % os.getpid())\n",
    "    p = Pool(4)\n",
    "    for i in range(5):\n",
    "        p.apply_async(long_time_task, args=(i,))\n",
    "    print('Waiting for all subprocesses done...')\n",
    "    p.close()\n",
    "    p.join()\n",
    "    print('All subprocesses done.')"
   ]
  },
  {
   "cell_type": "code",
   "execution_count": 9,
   "metadata": {
    "ExecuteTime": {
     "end_time": "2018-10-18T17:37:31.197446Z",
     "start_time": "2018-10-18T17:37:29.164149Z"
    }
   },
   "outputs": [
    {
     "name": "stdout",
     "output_type": "stream",
     "text": [
      "1\n",
      "2\n",
      "3\n",
      "5\n",
      "4\n",
      "time : 2.029644012451172\n"
     ]
    }
   ],
   "source": [
    "import time\n",
    "from multiprocessing import Pool\n",
    "def run(fn) :\n",
    "  time.sleep(2)\n",
    "  print(fn)\n",
    "if __name__ == \"__main__\" :\n",
    "  startTime = time.time()\n",
    "  testFL = [1,2,3,4,5]\n",
    "  pool = Pool(10)#可以同时跑10个进程\n",
    "  pool.map(run,testFL)\n",
    "  pool.close()\n",
    "  pool.join()   \n",
    "  endTime = time.time()\n",
    "  print (\"time :\", endTime - startTime)\n"
   ]
  },
  {
   "cell_type": "code",
   "execution_count": 6,
   "metadata": {
    "ExecuteTime": {
     "end_time": "2018-10-18T17:20:15.443106Z",
     "start_time": "2018-10-18T17:20:15.417537Z"
    }
   },
   "outputs": [
    {
     "ename": "NameError",
     "evalue": "name 'typing' is not defined",
     "output_type": "error",
     "traceback": [
      "\u001b[0;31m---------------------------------------------------------------------------\u001b[0m",
      "\u001b[0;31mNameError\u001b[0m                                 Traceback (most recent call last)",
      "\u001b[0;32m<ipython-input-6-dfbf2fcb8adb>\u001b[0m in \u001b[0;36m<module>\u001b[0;34m()\u001b[0m\n\u001b[0;32m----> 1\u001b[0;31m \u001b[0mdir\u001b[0m\u001b[0;34m(\u001b[0m\u001b[0mtyping\u001b[0m\u001b[0;34m)\u001b[0m\u001b[0;34m\u001b[0m\u001b[0m\n\u001b[0m",
      "\u001b[0;31mNameError\u001b[0m: name 'typing' is not defined"
     ]
    }
   ],
   "source": [
    "dir(typing)"
   ]
  },
  {
   "cell_type": "code",
   "execution_count": 93,
   "metadata": {
    "ExecuteTime": {
     "end_time": "2018-10-18T18:08:05.192306Z",
     "start_time": "2018-10-18T18:08:00.836691Z"
    }
   },
   "outputs": [
    {
     "name": "stdout",
     "output_type": "stream",
     "text": [
      "Run task [0] (8999)...\n",
      "Run task [1] (9000)...\n",
      "Run task [3] (9002)...\n",
      "Run task [5] (9004)...\n",
      "Run task [8] (9007)...\n",
      "Run task [2] (9001)...\n",
      "Run task [6] (9005)...\n",
      "Run task [4] (9003)...\n",
      "Run task [7] (9006)...\n",
      "Run task [9] (9008)...\n",
      "Task [0] runs 0.13 seconds.\n",
      "Run task [10] (8999)...\n",
      "Task [25] runs 0.57 seconds.\n",
      "Run task [11] (9004)...\n",
      "Task [36] runs 0.59 seconds.\n",
      "Run task [12] (9005)...\n",
      "Task [64] runs 0.93 seconds.\n",
      "Run task [13] (9007)...\n",
      "Task [1] runs 1.10 seconds.\n",
      "Run task [14] (9000)...\n",
      "Task [9] runs 1.16 seconds.\n",
      "Run task [15] (9002)...\n",
      "Task [225] runs 0.20 seconds.\n",
      "Run task [16] (9002)...\n",
      "Task [4] runs 1.52 seconds.\n",
      "Run task [17] (9001)...\n",
      "Task [100] runs 1.43 seconds.\n",
      "Run task [18] (8999)...\n",
      "Task [49] runs 1.60 seconds.\n",
      "Run task [19] (9006)...\n",
      "Task [361] runs 0.04 seconds.\n",
      "Task [81] runs 1.69 seconds.\n",
      "Task [169] runs 0.82 seconds.\n",
      "Task [16] runs 2.04 seconds.\n",
      "Task [144] runs 2.06 seconds.\n",
      "Task [196] runs 1.76 seconds.\n",
      "Task [121] runs 2.35 seconds.\n",
      "Task [324] runs 1.79 seconds.\n",
      "Task [256] runs 2.44 seconds.\n",
      "Task [289] runs 2.75 seconds.\n",
      "[0]\n",
      "[1]\n",
      "[4]\n",
      "[9]\n",
      "[16]\n",
      "[25]\n",
      "[36]\n",
      "[49]\n",
      "[64]\n",
      "[81]\n",
      "[100]\n",
      "[121]\n",
      "[144]\n",
      "[169]\n",
      "[196]\n",
      "[225]\n",
      "[256]\n",
      "[289]\n",
      "[324]\n",
      "[361]\n"
     ]
    }
   ],
   "source": [
    "from multiprocessing import Pool\n",
    "def test(p):     \n",
    "    return p\n",
    "if __name__==\"__main__\":\n",
    "    pool = Pool(processes=10)\n",
    "    result=[]\n",
    "    for i  in range(20):\n",
    "       '''\n",
    "       for循环执行流程：\n",
    "       （1）添加子进程到pool，并将这个对象（子进程）添加到result这个列表中。（此时子进程并没有运行）\n",
    "       （2）执行子进程（同时执行10个）\n",
    "       '''\n",
    "       result.append(pool.apply_async(long_time_task, args=([i],)))#维持执行的进程总数为10，当一个进程执行完后添加新进程.       \n",
    "    pool.close()\n",
    "    pool.join()\n",
    "    '''\n",
    "    遍历result列表，取出子进程对象，访问get()方法，获取返回值。（此时所有子进程已执行完毕）\n",
    "    '''\n",
    "    for i in result:\n",
    "        print (i.get())"
   ]
  },
  {
   "cell_type": "code",
   "execution_count": null,
   "metadata": {},
   "outputs": [],
   "source": []
  }
 ],
 "metadata": {
  "kernelspec": {
   "display_name": "Python 3",
   "language": "python",
   "name": "python3"
  },
  "language_info": {
   "codemirror_mode": {
    "name": "ipython",
    "version": 3
   },
   "file_extension": ".py",
   "mimetype": "text/x-python",
   "name": "python",
   "nbconvert_exporter": "python",
   "pygments_lexer": "ipython3",
   "version": "3.7.0"
  },
  "varInspector": {
   "cols": {
    "lenName": 16,
    "lenType": 16,
    "lenVar": 40
   },
   "kernels_config": {
    "python": {
     "delete_cmd_postfix": "",
     "delete_cmd_prefix": "del ",
     "library": "var_list.py",
     "varRefreshCmd": "print(var_dic_list())"
    },
    "r": {
     "delete_cmd_postfix": ") ",
     "delete_cmd_prefix": "rm(",
     "library": "var_list.r",
     "varRefreshCmd": "cat(var_dic_list()) "
    }
   },
   "types_to_exclude": [
    "module",
    "function",
    "builtin_function_or_method",
    "instance",
    "_Feature"
   ],
   "window_display": false
  }
 },
 "nbformat": 4,
 "nbformat_minor": 2
}
