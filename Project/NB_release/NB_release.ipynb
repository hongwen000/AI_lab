{
 "cells": [
  {
   "cell_type": "code",
   "execution_count": 1,
   "metadata": {
    "ExecuteTime": {
     "end_time": "2018-10-20T15:06:05.091461Z",
     "start_time": "2018-10-20T15:06:02.719398Z"
    }
   },
   "outputs": [],
   "source": [
    "from ai_base import *\n",
    "from collections import OrderedDict\n",
    "from typing import List, Tuple\n",
    "import numpy as np\n",
    "def _getOneHot(fdata: List[List], word_dict: OrderedDict) -> np.array:\n",
    "    D = len(fdata)\n",
    "    if len(word_dict) is 0:\n",
    "        for row in fdata:\n",
    "            for word in row:\n",
    "                if not word in word_dict:\n",
    "                    word_dict[word] = 1\n",
    "        word_dict[None] = 0\n",
    "    else:\n",
    "        word_dict = dict(zip(word_dict.keys(), [0 for _ in word_dict.values()]))\n",
    "        for row in fdata:\n",
    "            for word in row:\n",
    "                if word in word_dict:\n",
    "                    word_dict[word] = 1\n",
    "                else:\n",
    "                    word_dict[None] = 1\n",
    "    word_vec = word_dict.keys()\n",
    "    word_order = dict(zip(word_vec,range(len(word_vec))))\n",
    "    oneHot = np.zeros((D,len(word_dict)), dtype=np.int8)\n",
    "    for i,row in enumerate(fdata):\n",
    "        for word in row:\n",
    "            if word in word_order:\n",
    "                oneHot[i][word_order[word]] = 1\n",
    "            else:\n",
    "                oneHot[i][word_order[None]] = 1\n",
    "    return oneHot\n",
    "def OneHot(trainData: List[List], testData: List[List], savePath=\"\")-> Tuple[np.array, np.array]:\n",
    "    wdict = OrderedDict()\n",
    "    trainX = _getOneHot(trainData, wdict)\n",
    "    testX = _getOneHot(testData, wdict)\n",
    "    return trainX, testX\n",
    "\n",
    "trainData = CSV2List2('trainDataclean.csv')\n",
    "X, _ = OneHot(trainData, [], \"-1\")\n",
    "Y = np.uint8(CSV2List2('trainLabel.txt'))\n",
    "D = np.c_[X, Y]\n",
    "K = 2\n",
    "N = X.shape[0]\n",
    "M = X.shape[1]\n",
    "P_Y = np.zeros((K, 1))\n",
    "D_parted = list(range(K))\n",
    "for k in range(2):\n",
    "    D_parted[k] = np.array(list(filter(lambda v: v[-1] == k, D)))\n",
    "    P_Y[k] = len(D_parted[k]) / len(D)"
   ]
  },
  {
   "cell_type": "code",
   "execution_count": 4,
   "metadata": {
    "ExecuteTime": {
     "end_time": "2018-10-20T15:06:15.089840Z",
     "start_time": "2018-10-20T15:06:15.083130Z"
    }
   },
   "outputs": [
    {
     "data": {
      "text/plain": [
       "62761"
      ]
     },
     "execution_count": 4,
     "metadata": {},
     "output_type": "execute_result"
    }
   ],
   "source": [
    "M"
   ]
  },
  {
   "cell_type": "code",
   "execution_count": 2,
   "metadata": {
    "ExecuteTime": {
     "end_time": "2018-10-20T15:06:08.221579Z",
     "start_time": "2018-10-20T15:06:07.573108Z"
    }
   },
   "outputs": [],
   "source": [
    "onehotPXY = CSV2List2(\"NB_onehotPXY.csv\")\n",
    "for j in range(2):\n",
    "    for i in range(len(onehotPXY[j])):\n",
    "        onehotPXY[j][i] = eval(onehotPXY[j][i])"
   ]
  },
  {
   "cell_type": "code",
   "execution_count": 3,
   "metadata": {
    "ExecuteTime": {
     "end_time": "2018-10-20T15:06:11.656188Z",
     "start_time": "2018-10-20T15:06:11.653590Z"
    }
   },
   "outputs": [],
   "source": [
    "def split(s, t, X, Y):\n",
    "    piece = int(N / s)\n",
    "    vaildX = []\n",
    "    vaildY = []\n",
    "    if t == s - 1:\n",
    "        vaildX = X[t * piece:]\n",
    "        vaildY = Y[t * piece:]\n",
    "    else:\n",
    "        vaildX = X[t * piece: (t+1) * piece]\n",
    "        vaildY = Y[t * piece: (t+1) * piece]\n",
    "    return vaildX, vaildY"
   ]
  },
  {
   "cell_type": "code",
   "execution_count": 5,
   "metadata": {
    "ExecuteTime": {
     "end_time": "2018-10-20T15:14:10.660391Z",
     "start_time": "2018-10-20T15:14:10.654911Z"
    }
   },
   "outputs": [],
   "source": [
    "def onehot_predict(X):\n",
    "    _PY = deepcopy(P_Y)\n",
    "    for k in range(K):\n",
    "        for i in range(M):\n",
    "            if X[i] == 1:\n",
    "                ret = np.log(onehotPXY[k][i][X[i]])\n",
    "                _PY[k] += ret\n",
    "    return np.argmax(_PY)\n",
    "import os\n",
    "def onehot_predicts(Xs):\n",
    "    return [onehot_predict(X) for X in Xs]"
   ]
  },
  {
   "cell_type": "code",
   "execution_count": 7,
   "metadata": {
    "ExecuteTime": {
     "end_time": "2018-10-20T16:49:18.962595Z",
     "start_time": "2018-10-20T16:48:31.092424Z"
    }
   },
   "outputs": [
    {
     "name": "stdout",
     "output_type": "stream",
     "text": [
      "Waiting for all subprocesses done...\n",
      "All subprocesses done.\n",
      "Waiting for all subprocesses done...\n",
      "All subprocesses done.\n",
      "Waiting for all subprocesses done...\n",
      "All subprocesses done.\n",
      "Waiting for all subprocesses done...\n",
      "All subprocesses done.\n",
      "Waiting for all subprocesses done...\n",
      "All subprocesses done.\n",
      "5 0.9190000000000002\n",
      "Waiting for all subprocesses done...\n",
      "All subprocesses done.\n",
      "Waiting for all subprocesses done...\n",
      "All subprocesses done.\n",
      "Waiting for all subprocesses done...\n",
      "All subprocesses done.\n",
      "Waiting for all subprocesses done...\n",
      "All subprocesses done.\n",
      "Waiting for all subprocesses done...\n",
      "All subprocesses done.\n",
      "Waiting for all subprocesses done...\n",
      "All subprocesses done.\n",
      "6 0.9190054334987008\n"
     ]
    }
   ],
   "source": [
    "from copy import deepcopy\n",
    "for s in range(5, 7):\n",
    "    acc = 0\n",
    "    for t in range(s):\n",
    "        vaildX, vaildY = split(s, t, X, Y)\n",
    "        predictY = np.zeros_like(vaildY)\n",
    "        predictY = list_multiprocess(vaildX, onehot_predicts, 36)\n",
    "        correct = 0\n",
    "        for i in range(len(predictY)):\n",
    "            if(predictY[i] == vaildY[i]):\n",
    "                correct += 1\n",
    "        acc += correct / len(predictY)\n",
    "    print(s, acc / s)"
   ]
  },
  {
   "cell_type": "code",
   "execution_count": null,
   "metadata": {},
   "outputs": [],
   "source": []
  }
 ],
 "metadata": {
  "kernelspec": {
   "display_name": "Python 3",
   "language": "python",
   "name": "python3"
  },
  "language_info": {
   "codemirror_mode": {
    "name": "ipython",
    "version": 3
   },
   "file_extension": ".py",
   "mimetype": "text/x-python",
   "name": "python",
   "nbconvert_exporter": "python",
   "pygments_lexer": "ipython3",
   "version": "3.7.0"
  },
  "varInspector": {
   "cols": {
    "lenName": 16,
    "lenType": 16,
    "lenVar": 40
   },
   "kernels_config": {
    "python": {
     "delete_cmd_postfix": "",
     "delete_cmd_prefix": "del ",
     "library": "var_list.py",
     "varRefreshCmd": "print(var_dic_list())"
    },
    "r": {
     "delete_cmd_postfix": ") ",
     "delete_cmd_prefix": "rm(",
     "library": "var_list.r",
     "varRefreshCmd": "cat(var_dic_list()) "
    }
   },
   "types_to_exclude": [
    "module",
    "function",
    "builtin_function_or_method",
    "instance",
    "_Feature"
   ],
   "window_display": false
  }
 },
 "nbformat": 4,
 "nbformat_minor": 2
}
