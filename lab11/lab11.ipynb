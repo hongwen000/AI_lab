{
 "cells": [
  {
   "cell_type": "code",
   "execution_count": 18,
   "metadata": {},
   "outputs": [],
   "source": [
    "class Util:\n",
    "    @staticmethod\n",
    "    def to_binary(num, len):\n",
    "        return format(num, '0' + str(len) + 'b')\n",
    "    def find_public(sv, fv):\n",
    "        for i, vi in enumerate(sv):\n",
    "            for j, vj in enumerate(fv):\n",
    "                if vi == vj:\n",
    "                    return i, j\n",
    "        return -1,-1"
   ]
  },
  {
   "cell_type": "code",
   "execution_count": 19,
   "metadata": {},
   "outputs": [],
   "source": [
    "from copy import deepcopy"
   ]
  },
  {
   "cell_type": "code",
   "execution_count": 20,
   "metadata": {},
   "outputs": [],
   "source": [
    "class Node:\n",
    "    def __init__(self, name, var_list):\n",
    "        self.name = name\n",
    "        self.var_list = var_list\n",
    "        self.cpt = {}\n",
    "    def setCpt(self, cpt):\n",
    "        self.cpt = cpt\n",
    "    def printInf(self):\n",
    "        print(\"Name: \" + self.name)\n",
    "        print(\" vars: \" + str(self.var_list))\n",
    "        for k in self.cpt:\n",
    "            print('   key: ' + k + ' val: ' + str(self.cpt[k]))\n",
    "        print('')\n",
    "    def multiply(self, factor):\n",
    "        # 查找要消去的变量在两个因子中的位置\n",
    "        si, fi = Util.find_public(self.var_list, factor.var_list)\n",
    "        \n",
    "        # 构造相乘后新因子涉及的变量列表\n",
    "        new_list = deepcopy(self.var_list)\n",
    "        factor_list_copy = deepcopy(factor.var_list)\n",
    "        del factor_list_copy[fi]\n",
    "        new_list = new_list + factor_list_copy\n",
    "\n",
    "        new_cpt = {}\n",
    "        # 遍历两个因子的条件概率表中的所有条件概率\n",
    "        for sk, sv in self.cpt.items():\n",
    "            for fk, fv in factor.cpt.items():\n",
    "                # 如果两个条件概率中要消去的变量的值相同\n",
    "                if sk[si] == fk[fi]:\n",
    "                    # 构造新的条件概率\n",
    "                    new_k = deepcopy(sk)\n",
    "                    fk_copy = deepcopy(fk)\n",
    "                    del fk_copy[fi]\n",
    "                    new_k = new_k + fk_copy\n",
    "                    if new_k in new_cpt:\n",
    "                        new_cpt[new_k] += sv * fv\n",
    "                    else:\n",
    "                        new_cpt[new_k] = sv * fv\n",
    "        new_node = Node('f' + str(new_list), new_list)\n",
    "        new_node.setCpt(new_cpt)\n",
    "        return new_node\n",
    "    def sumout(self, var):\n",
    "        # 新因子的列表中删除var\n",
    "        new_list = deepcopy(self.var_list)\n",
    "        new_list.remove(var)\n",
    "        \n",
    "        new_cpt = {}\n",
    "        for sk, sv in self.cpt.items():\n",
    "            new_k = deepcopy(sk)\n",
    "            new_k.remove()\n",
    "        new_node = Node('f' + str(new_list), new_list)\n",
    "        new_node.setCpt(new_cpt)\n",
    "        return new_node\n",
    "    def restrict(self, var, val):\n",
    "        #TODO\n",
    "        new_node = Node('f' + str(new_list), new_list)\n",
    "        new_node.setCpt(new_cpt)\n",
    "        return new_node"
   ]
  },
  {
   "cell_type": "code",
   "execution_count": 11,
   "metadata": {},
   "outputs": [],
   "source": [
    "class VE:\n",
    "    @staticmethod\n",
    "    def inference(F, Q, R, E):\n",
    "        # 遍历所有因子，用证据变量进行约束\n",
    "        for f in F:\n",
    "            for var, val in E.items():\n",
    "                if var in f.var_list:\n",
    "                    f.restrict(var, val)\n",
    "        # 按消元顺序遍历所有剩余变量\n",
    "        for v in R:\n",
    "            # 筛选涉及该剩余变量的因子\n",
    "            invole_v = []\n",
    "            for idx, f in enumerate(F):\n",
    "                if v in f.var_list:\n",
    "                    invole_v.append(f)\n",
    "                    del F[idx]\n",
    "            # 将所有找到的因子相乘\n",
    "            g = invole_v[0]\n",
    "            for f in invole_v[1:]:\n",
    "                g = g.multiply(f)\n",
    "            # 相乘得到的新的因子加入F\n",
    "            F.append(g)\n",
    "        print(\"RESULT:\")\n",
    "        # 将所有剩余的因子相乘（这些因子只涉及查询变量）\n",
    "        res = F[0]\n",
    "        for f in F[1:]:\n",
    "            res = res.multiply(f)\n",
    "        total = sum(res.cpt.values())\n",
    "        res.cpt={k:v/total for k, v in res.cpt.items()}\n",
    "        res.printInf()\n",
    "    @staticmethod\n",
    "    def printFactors(F):\n",
    "        for f in F:\n",
    "            f.printInf()"
   ]
  },
  {
   "cell_type": "code",
   "execution_count": 13,
   "metadata": {},
   "outputs": [],
   "source": [
    "B = Node('B', ['B'])\n",
    "E = Node('E', ['E'])\n",
    "A = Node('A', ['A', 'B', 'E'])\n",
    "J = Node('J', ['J', 'A'])\n",
    "M = Node('M', ['M', 'A'])"
   ]
  },
  {
   "cell_type": "code",
   "execution_count": 15,
   "metadata": {},
   "outputs": [],
   "source": [
    "B.setCpt({'0': 0.999, '1': 0.001})\n",
    "E.setCpt({'0': 0.998, '1': 0.002})\n",
    "A.setCpt({'111': 0.95, '011': 0.05, '110':0.94, '010':0.06,\n",
    "          '101': 0.29, '001': 0.71, '100':0.001,'000':0.999})\n",
    "J.setCpt({'11':0.90, '01': 0.10, '10': 0.05, '00': 0.95})\n",
    "M.setCpt({'11':0.70, '01': 0.30, '10': 0.01, '00': 0.99})"
   ]
  },
  {
   "cell_type": "code",
   "execution_count": 48,
   "metadata": {},
   "outputs": [],
   "source": [
    "class Util:\n",
    "    @staticmethod\n",
    "    def to_binary(num, len):\n",
    "        return format(num, '0' + str(len) + 'b')\n",
    "    def find_public(sv, fv):\n",
    "        for i, vi in enumerate(sv):\n",
    "            for j, vj in enumerate(fv):\n",
    "                if vi == vj:\n",
    "                    return i, j\n",
    "        return -1,-1\n",
    "\n",
    "from copy import deepcopy\n",
    "\n",
    "\n",
    "class Node:\n",
    "    def __init__(self, name, var_list):\n",
    "        self.name = name\n",
    "        self.var_list = var_list\n",
    "        self.cpt = {}\n",
    "\n",
    "    def setCpt(self, cpt):\n",
    "        self.cpt = cpt\n",
    "\n",
    "    def printInf(self):\n",
    "        print(\"Name: \" + self.name)\n",
    "        print(\" vars: \" + str(self.var_list))\n",
    "        for k in self.cpt:\n",
    "            print('   key: ' + k + ' val: ' + str(self.cpt[k]))\n",
    "        print('')\n",
    "\n",
    "    def multiply(self, factor):\n",
    "        # 查找要消去的变量在两个因子中的位置\n",
    "        si, fi = Util.find_public(self.var_list, factor.var_list)\n",
    "\n",
    "        # 构造相乘后新因子涉及的变量列表\n",
    "        new_list = deepcopy(self.var_list)\n",
    "        factor_list_copy = deepcopy(factor.var_list)\n",
    "        del factor_list_copy[fi]\n",
    "        new_list = new_list + factor_list_copy\n",
    "\n",
    "        new_cpt = {}\n",
    "        # 遍历两个因子的条件概率表中的所有条件概率\n",
    "        for sk, sv in self.cpt.items():\n",
    "            for fk, fv in factor.cpt.items():\n",
    "                # 如果两个条件概率中要消去的变量的值相同\n",
    "                if sk[si] == fk[fi]:\n",
    "                    # 构造新的条件概率\n",
    "                    new_k = deepcopy(sk)\n",
    "                    fk_copy = deepcopy(fk)\n",
    "                    if fi == len(fk_copy):\n",
    "                        fk_copy = fk_copy[:fi-1]\n",
    "                    else:\n",
    "                        fk_copy = fk_copy[:fi] + fk_copy[(fi+1):]\n",
    "                    new_k = new_k + fk_copy\n",
    "                    if new_k in new_cpt:\n",
    "                        new_cpt[new_k] += sv * fv\n",
    "                    else:\n",
    "                        new_cpt[new_k] = sv * fv\n",
    "        new_node = Node('f' + str(new_list), new_list)\n",
    "        new_node.setCpt(new_cpt)\n",
    "        return new_node\n",
    "\n",
    "    def sumout(self, var):\n",
    "        # 新因子的变量列表中删除var\n",
    "        new_list = deepcopy(self.var_list)\n",
    "        si = 0\n",
    "        for i in range(len(new_list)):\n",
    "            if new_list[i] == var:\n",
    "                si = i\n",
    "                break\n",
    "        new_list.remove(var)\n",
    "        new_cpt = {}\n",
    "        # 将删除变量var后条件概率表中相同的表项相加\n",
    "        for sk, sv in self.cpt.items():\n",
    "            new_k = deepcopy(sk)\n",
    "            if si == len(new_k):\n",
    "                new_k = new_k[:si-1]\n",
    "            else:\n",
    "                new_k = new_k[:si] + new_k[(si+1):]\n",
    "            if new_k in new_cpt:\n",
    "                new_cpt[new_k] += sv\n",
    "            else:\n",
    "                new_cpt[new_k] = sv\n",
    "        new_node = Node('f' + str(new_list), new_list)\n",
    "        new_node.setCpt(new_cpt)\n",
    "        return new_node\n",
    "\n",
    "    def restrict(self, var, val):\n",
    "        # 新因子的变量列表中删除var\n",
    "        new_list = deepcopy(self.var_list)\n",
    "        si = 0\n",
    "        for i in range(len(new_list)):\n",
    "            if new_list[i] == var:\n",
    "                si = i\n",
    "                break\n",
    "        new_list.remove(var)\n",
    "        # 删除所有原来因子的条件变量表中var值不是val的条目\n",
    "        new_cpt = {}\n",
    "        idx = 0\n",
    "        for i, v in enumerate(self.var_list):\n",
    "            if v == var:\n",
    "                idx = i\n",
    "                break\n",
    "        for sk, sv in self.cpt.items():\n",
    "            if sk[idx] == val:\n",
    "                new_k = deepcopy(sk)\n",
    "                if si == len(new_k):\n",
    "                    new_k = new_k[:si-1]\n",
    "                else:\n",
    "                    new_k = new_k[:si] + new_k[(si+1):]\n",
    "                new_cpt[new_k] = sv\n",
    "        new_node = Node('f' + str(new_list), new_list)\n",
    "        new_node.setCpt(new_cpt)\n",
    "        return new_node\n",
    "\n",
    "class VE:\n",
    "    @staticmethod\n",
    "    def inference(F, Q, R, E):\n",
    "        # 遍历所有因子，用证据变量进行约束\n",
    "        for f in F:\n",
    "            for var, val in E.items():\n",
    "                if var in f.var_list:\n",
    "                    f.restrict(var, val)\n",
    "        # 按消元顺序遍历所有剩余变量\n",
    "        for v in R:\n",
    "            # 筛选涉及该剩余变量的因子\n",
    "            invole_v = []\n",
    "            for idx, f in enumerate(F):\n",
    "                if v in f.var_list:\n",
    "                    invole_v.append(f)\n",
    "                    del F[idx]\n",
    "            # 将所有找到的因子相乘\n",
    "            g = invole_v[0]\n",
    "            for f in invole_v[1:]:\n",
    "                g = g.multiply(f)\n",
    "            # 相乘得到的新的因子加入F\n",
    "            F.append(g)\n",
    "        print(\"RESULT:\")\n",
    "        # 将所有剩余的因子相乘（这些因子只涉及查询变量）\n",
    "        res = F[0]\n",
    "        for f in F[1:]:\n",
    "            res = res.multiply(f)\n",
    "        total = sum(res.cpt.values())\n",
    "        res.cpt={k:v/total for k, v in res.cpt.items()}\n",
    "        res.printInf()\n",
    "    @staticmethod\n",
    "    def printFactors(F):\n",
    "        for f in F:\n",
    "            f.printInf()\n",
    "\n",
    "B = Node('B', ['B'])\n",
    "E = Node('E', ['E'])\n",
    "A = Node('A', ['A', 'B', 'E'])\n",
    "J = Node('J', ['J', 'A'])\n",
    "M = Node('M', ['M', 'A'])\n",
    "\n",
    "B.setCpt({'0': 0.999, '1': 0.001})\n",
    "E.setCpt({'0': 0.998, '1': 0.002})\n",
    "A.setCpt({'111': 0.95, '011': 0.05, '110':0.94, '010':0.06,\n",
    "          '101': 0.29, '001': 0.71, '100':0.001,'000':0.999})\n",
    "J.setCpt({'11':0.90, '01': 0.10, '10': 0.05, '00': 0.95})\n",
    "M.setCpt({'11':0.70, '01': 0.30, '10': 0.01, '00': 0.99})\n",
    "\n"
   ]
  },
  {
   "cell_type": "code",
   "execution_count": 49,
   "metadata": {},
   "outputs": [],
   "source": [
    "f = Node('A', ['A', 'B'])"
   ]
  },
  {
   "cell_type": "code",
   "execution_count": 50,
   "metadata": {},
   "outputs": [],
   "source": [
    "g = Node('C', ['C', 'B'])"
   ]
  },
  {
   "cell_type": "code",
   "execution_count": 51,
   "metadata": {},
   "outputs": [],
   "source": [
    "f.setCpt({'11': 0.9, '10':0.1, '01':0.4, '00': 0.6})"
   ]
  },
  {
   "cell_type": "code",
   "execution_count": 52,
   "metadata": {},
   "outputs": [],
   "source": [
    "g.setCpt({'11':0.7, '01':0.3, '10':0.8, '00':0.2})"
   ]
  },
  {
   "cell_type": "code",
   "execution_count": 53,
   "metadata": {},
   "outputs": [
    {
     "data": {
      "text/plain": [
       "{'111': 0.63,\n",
       " '110': 0.27,\n",
       " '101': 0.08000000000000002,\n",
       " '100': 0.020000000000000004,\n",
       " '011': 0.27999999999999997,\n",
       " '010': 0.12,\n",
       " '001': 0.48,\n",
       " '000': 0.12}"
      ]
     },
     "execution_count": 53,
     "metadata": {},
     "output_type": "execute_result"
    }
   ],
   "source": [
    "f.multiply(g).cpt"
   ]
  },
  {
   "cell_type": "code",
   "execution_count": 56,
   "metadata": {},
   "outputs": [
    {
     "data": {
      "text/plain": [
       "{'1': 1.3, '0': 0.7}"
      ]
     },
     "execution_count": 56,
     "metadata": {},
     "output_type": "execute_result"
    }
   ],
   "source": [
    "f.sumout('A').cpt"
   ]
  },
  {
   "cell_type": "code",
   "execution_count": 54,
   "metadata": {},
   "outputs": [
    {
     "data": {
      "text/plain": [
       "{'1': 0.9, '0': 0.1}"
      ]
     },
     "execution_count": 54,
     "metadata": {},
     "output_type": "execute_result"
    }
   ],
   "source": [
    "f.restrict('A', '1').cpt"
   ]
  },
  {
   "cell_type": "code",
   "execution_count": null,
   "metadata": {},
   "outputs": [],
   "source": []
  },
  {
   "cell_type": "code",
   "execution_count": null,
   "metadata": {},
   "outputs": [],
   "source": []
  }
 ],
 "metadata": {
  "kernelspec": {
   "display_name": "Python 3",
   "language": "python",
   "name": "python3"
  },
  "language_info": {
   "codemirror_mode": {
    "name": "ipython",
    "version": 3
   },
   "file_extension": ".py",
   "mimetype": "text/x-python",
   "name": "python",
   "nbconvert_exporter": "python",
   "pygments_lexer": "ipython3",
   "version": "3.6.5"
  }
 },
 "nbformat": 4,
 "nbformat_minor": 2
}
